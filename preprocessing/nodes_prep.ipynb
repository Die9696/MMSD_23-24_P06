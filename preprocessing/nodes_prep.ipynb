{
 "cells": [
  {
   "cell_type": "markdown",
   "metadata": {},
   "source": [
    "Lettura dati da dataset annuali"
   ]
  },
  {
   "cell_type": "code",
   "execution_count": 2,
   "metadata": {},
   "outputs": [
    {
     "name": "stdout",
     "output_type": "stream",
     "text": [
      "records:  690153\n"
     ]
    }
   ],
   "source": [
    "# import pandas\n",
    "import pandas as pd\n",
    "\n",
    "# read all datasets\n",
    "files = [\n",
    "    '../graph/nodes/EstrazioniTamponi_clean_full.csv',\n",
    "]\n",
    "\n",
    "data = pd.concat([pd.read_csv(f, skipinitialspace=True) for f in files])\n",
    "len = len(data)\n",
    "print(\"records: \", len)\n"
   ]
  },
  {
   "cell_type": "code",
   "execution_count": 3,
   "metadata": {},
   "outputs": [],
   "source": [
    "# picchi pandemici - NO FILTER\n",
    "import matplotlib.pyplot as plt\n",
    "import matplotlib.dates as mdates\n",
    "\n",
    "picchi_pandemici = [\n",
    "    '2020-04-25',\n",
    "    '2020-10-15',\n",
    "    '2021-03-08',\n",
    "    '2022-01-10',\n",
    "]\n"
   ]
  },
  {
   "cell_type": "code",
   "execution_count": 6,
   "metadata": {},
   "outputs": [
    {
     "name": "stdout",
     "output_type": "stream",
     "text": [
      "                                                   Conteggio\n",
      "Codice Reparto Nome Reparto                                 \n",
      "46720          CHIERI - Osp. Maggiore                  90483\n",
      "20193          RM DEA                                  76582\n",
      "10001          MOL PS Medicina                         40091\n",
      "10044          MOL 01-OBI EMERGENZA                    35964\n",
      "20176          SA Pronto Soccorso                      30168\n",
      "...                                                      ...\n",
      "11427          MOL Onc Med 1 SDA Pre terapia COES          1\n",
      "11428          MOL Endocrinologia Onc SDA CO               1\n",
      "11451          MOL Coord.Ass.Psichiatrico Os               1\n",
      "11463          MOL Chir Gen Urg e PS 3 NOIMP               1\n",
      "10000          MOL PEIMAF Molinette                        1\n",
      "\n",
      "[708 rows x 1 columns]\n"
     ]
    }
   ],
   "source": [
    "# filtra colonne: Codice Reparto,Nome Reparto,Conteggio.\n",
    "nodes_data = data[['Codice Reparto', 'Nome Reparto', 'Conteggio']]\n",
    "\n",
    "# group by Codice Reparto, Nome Reparto.\n",
    "# Somma per Conteggio.\n",
    "nodes_data = nodes_data.groupby(['Codice Reparto', 'Nome Reparto']).sum()\n",
    "\n",
    "# Ordina per Conteggio.\n",
    "nodes_data = nodes_data.sort_values(by='Conteggio', ascending=False)\n",
    "\n",
    "print(nodes_data)"
   ]
  },
  {
   "cell_type": "code",
   "execution_count": 10,
   "metadata": {},
   "outputs": [],
   "source": [
    "out_file = '../graph/nodes/nodes_full_orig.csv'\n",
    "\n",
    "nodes_data.to_csv(out_file, index=True, header=True)"
   ]
  },
  {
   "cell_type": "code",
   "execution_count": 4,
   "metadata": {},
   "outputs": [
    {
     "data": {
      "text/html": [
       "<div>\n",
       "<style scoped>\n",
       "    .dataframe tbody tr th:only-of-type {\n",
       "        vertical-align: middle;\n",
       "    }\n",
       "\n",
       "    .dataframe tbody tr th {\n",
       "        vertical-align: top;\n",
       "    }\n",
       "\n",
       "    .dataframe thead th {\n",
       "        text-align: right;\n",
       "    }\n",
       "</style>\n",
       "<table border=\"1\" class=\"dataframe\">\n",
       "  <thead>\n",
       "    <tr style=\"text-align: right;\">\n",
       "      <th></th>\n",
       "      <th></th>\n",
       "      <th></th>\n",
       "      <th>Conteggio</th>\n",
       "    </tr>\n",
       "    <tr>\n",
       "      <th>Codice Finale</th>\n",
       "      <th>Nome Finale</th>\n",
       "      <th>Interno/Esterno</th>\n",
       "      <th></th>\n",
       "    </tr>\n",
       "  </thead>\n",
       "  <tbody>\n",
       "    <tr>\n",
       "      <th>46720</th>\n",
       "      <th>CHIERI - Osp. Maggiore</th>\n",
       "      <th>Esterno</th>\n",
       "      <td>90483</td>\n",
       "    </tr>\n",
       "    <tr>\n",
       "      <th>20193</th>\n",
       "      <th>RM DEA</th>\n",
       "      <th>Esterno</th>\n",
       "      <td>76582</td>\n",
       "    </tr>\n",
       "    <tr>\n",
       "      <th>10001</th>\n",
       "      <th>MOL PS Medicina</th>\n",
       "      <th>Interno</th>\n",
       "      <td>40091</td>\n",
       "    </tr>\n",
       "    <tr>\n",
       "      <th>10044</th>\n",
       "      <th>MOL 01-OBI EMERGENZA</th>\n",
       "      <th>Interno</th>\n",
       "      <td>35964</td>\n",
       "    </tr>\n",
       "    <tr>\n",
       "      <th>20176</th>\n",
       "      <th>SA Pronto Soccorso</th>\n",
       "      <th>Esterno</th>\n",
       "      <td>30168</td>\n",
       "    </tr>\n",
       "    <tr>\n",
       "      <th>...</th>\n",
       "      <th>...</th>\n",
       "      <th>...</th>\n",
       "      <td>...</td>\n",
       "    </tr>\n",
       "    <tr>\n",
       "      <th>10496</th>\n",
       "      <th>MOL ORL 2 U Amb</th>\n",
       "      <th>Interno</th>\n",
       "      <td>1</td>\n",
       "    </tr>\n",
       "    <tr>\n",
       "      <th>10558</th>\n",
       "      <th>MOL Dermatologia chirurgica DH</th>\n",
       "      <th>Interno</th>\n",
       "      <td>1</td>\n",
       "    </tr>\n",
       "    <tr>\n",
       "      <th>10572</th>\n",
       "      <th>MOL Dermo U Amb allergologia</th>\n",
       "      <th>Interno</th>\n",
       "      <td>1</td>\n",
       "    </tr>\n",
       "    <tr>\n",
       "      <th>10605</th>\n",
       "      <th>MOL Onc. Med 2 Amb Senologia</th>\n",
       "      <th>Interno</th>\n",
       "      <td>1</td>\n",
       "    </tr>\n",
       "    <tr>\n",
       "      <th>10000</th>\n",
       "      <th>MOL PEIMAF Molinette</th>\n",
       "      <th>Interno</th>\n",
       "      <td>1</td>\n",
       "    </tr>\n",
       "  </tbody>\n",
       "</table>\n",
       "<p>563 rows × 1 columns</p>\n",
       "</div>"
      ],
      "text/plain": [
       "                                                              Conteggio\n",
       "Codice Finale Nome Finale                    Interno/Esterno           \n",
       "46720         CHIERI - Osp. Maggiore         Esterno              90483\n",
       "20193         RM DEA                         Esterno              76582\n",
       "10001         MOL PS Medicina                Interno              40091\n",
       "10044         MOL 01-OBI EMERGENZA           Interno              35964\n",
       "20176         SA Pronto Soccorso             Esterno              30168\n",
       "...                                                                 ...\n",
       "10496         MOL ORL 2 U Amb                Interno                  1\n",
       "10558         MOL Dermatologia chirurgica DH Interno                  1\n",
       "10572         MOL Dermo U Amb allergologia   Interno                  1\n",
       "10605         MOL Onc. Med 2 Amb Senologia   Interno                  1\n",
       "10000         MOL PEIMAF Molinette           Interno                  1\n",
       "\n",
       "[563 rows x 1 columns]"
      ]
     },
     "execution_count": 4,
     "metadata": {},
     "output_type": "execute_result"
    }
   ],
   "source": [
    "# import pandas\n",
    "import pandas as pd\n",
    "\n",
    "# leggi file\n",
    "in_file = '../graph/nodes/nodes_full_edit.xlsx'\n",
    "\n",
    "nodes_data = pd.read_excel(in_file)\n",
    "nodes_data\n",
    "\n",
    "edited_nodes_data = nodes_data\n",
    "\n",
    "# crea nuova colonna Codice Finale \n",
    "# Se Correzione codice non è NaN, Codice Finale è uguale a Correzione codice, sennò è uguale a Codice Reparto\n",
    "edited_nodes_data['Codice Finale'] = edited_nodes_data['Correzione codice'].fillna(edited_nodes_data['Codice Reparto'])\n",
    "edited_nodes_data['Nome Finale'] = edited_nodes_data['Correzione nome'].fillna(edited_nodes_data['Nome Reparto'])\n",
    "\n",
    "# mantieni solo le colonne:\n",
    "# Codice Finale, Nome Finale, Conteggio, Interno/Esterno\n",
    "edited_nodes_data = edited_nodes_data[['Codice Finale', 'Nome Finale', 'Conteggio', 'Interno/Esterno']]\n",
    "\n",
    "edited_nodes_data = edited_nodes_data.groupby(['Codice Finale', 'Nome Finale', 'Interno/Esterno']).sum()\n",
    "\n",
    "edited_nodes_data = edited_nodes_data.sort_values(by='Conteggio', ascending=False)\n",
    "\n",
    "edited_nodes_data"
   ]
  },
  {
   "cell_type": "code",
   "execution_count": 58,
   "metadata": {},
   "outputs": [
    {
     "name": "stdout",
     "output_type": "stream",
     "text": [
      "                                                                 Conteggio\n",
      "Codice Finale Nome Finale                       Interno/Esterno           \n",
      "10001         MOL PS Medicina                   Interno              40091\n",
      "10044         MOL 01-OBI EMERGENZA              Interno              35964\n",
      "10003         MOL PS Chirurgia ospedaliera      Interno               8217\n",
      "10014         MOL PS Chirurgia Univ             Interno               6890\n",
      "10372         MOL Chir Gen 1 U Deg 2p           Interno               6799\n",
      "...                                                                    ...\n",
      "10138         MOL Week Hosp Neurochir Deg 0401B Interno                  1\n",
      "10158         MOL Neurochirurgia DH             Interno                  1\n",
      "10064         MOL 6903 - Radiologia 3 - Amb     Interno                  1\n",
      "10159         MOL Radioterapia U DH             Interno                  1\n",
      "10000         MOL PEIMAF Molinette              Interno                  1\n",
      "\n",
      "[241 rows x 1 columns]\n",
      "1021.804979253112 13313084.932641754\n"
     ]
    }
   ],
   "source": [
    "interni_data = edited_nodes_data.loc[edited_nodes_data.index.get_level_values('Interno/Esterno') == 'Interno']\n",
    "\n",
    "# sort by count\n",
    "interni_data = interni_data.sort_values(by='Conteggio', ascending=False)\n",
    "print(interni_data)\n",
    "\n",
    "# average and variance\n",
    "print(interni_data['Conteggio'].mean(), interni_data['Conteggio'].var())\n",
    "\n",
    "# filtra la coda dei dati con minore Conteggio (mantieni 90% dei dati, aggrega il resto in 'altro')\n",
    "# ???"
   ]
  },
  {
   "cell_type": "code",
   "execution_count": 59,
   "metadata": {},
   "outputs": [
    {
     "name": "stderr",
     "output_type": "stream",
     "text": [
      "C:\\Users\\Arbiter\\AppData\\Local\\Temp\\ipykernel_14560\\3172779559.py:9: UserWarning: FixedFormatter should only be used together with FixedLocator\n",
      "  ax.set_xticklabels(plot_data.index.get_level_values('Nome Finale'), rotation=90)\n"
     ]
    },
    {
     "data": {
      "image/png": "[encoded data removed]",
      "text/plain": [
       "<Figure size 640x480 with 1 Axes>"
      ]
     },
     "metadata": {},
     "output_type": "display_data"
    }
   ],
   "source": [
    "# plot\n",
    "import matplotlib.pyplot as plt\n",
    "import matplotlib.dates as mdates\n",
    "\n",
    "\n",
    "plot_data = interni_data\n",
    "fig, ax = plt.subplots()\n",
    "ax.plot(plot_data.index.get_level_values('Nome Finale'), plot_data['Conteggio'], 'o')\n",
    "ax.set_xticklabels(plot_data.index.get_level_values('Nome Finale'), rotation=90)\n",
    "ax.xaxis.set_major_locator(plt.MaxNLocator(10))\n",
    "ax.xaxis.set_minor_locator(plt.MaxNLocator(100))\n",
    "ax.xaxis.set_major_formatter(plt.FuncFormatter(lambda x, _: '{:.0f}'.format(x)))\n",
    "ax.set_title('Conteggio tamponi interni per reparto')\n",
    "plt.show()\n"
   ]
  }
 ],
 "metadata": {
  "kernelspec": {
   "display_name": "datascience",
   "language": "python",
   "name": "python3"
  },
  "language_info": {
   "codemirror_mode": {
    "name": "ipython",
    "version": 3
   },
   "file_extension": ".py",
   "mimetype": "text/x-python",
   "name": "python",
   "nbconvert_exporter": "python",
   "pygments_lexer": "ipython3",
   "version": "3.8.18"
  }
 },
 "nbformat": 4,
 "nbformat_minor": 2
}

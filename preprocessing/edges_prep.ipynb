{
 "cells": [
  {
   "cell_type": "code",
   "execution_count": 9,
   "metadata": {},
   "outputs": [],
   "source": [
    "nodi = (\n",
    "    '1',\n",
    "    '2',\n",
    "    '3',\n",
    "    '4',\n",
    "    '5n',\n",
    "    '5s',\n",
    "    '6',\n",
    "    '7',\n",
    "    '8',\n",
    "    '9',\n",
    "    '10',\n",
    "    '10b',\n",
    "    '11n',\n",
    "    '11s',\n",
    "    '12',\n",
    "    '13',\n",
    "    '14',\n",
    "    '15',\n",
    "    '16',\n",
    "    '17',\n",
    "    '19',\n",
    "    '20',\n",
    "    '20b',\n",
    "    '21',\n",
    "    '22',\n",
    "    '23',\n",
    "    '24',\n",
    "    '25/1',\n",
    "    '25/2',\n",
    "    '26',\n",
    "    '31',\n",
    "    'X1',\n",
    "    'X2',\n",
    "    'X3',\n",
    "    'X4',\n",
    "    'X5',\n",
    "    'X6',\n",
    "    'X7',\n",
    "    'X8',\n",
    "    'X9',\n",
    "    'X10',\n",
    "    'X11',\n",
    "    'X12',\n",
    "    'X13',\n",
    "    'X14',\n",
    "    'X15',\n",
    "    'X16',\n",
    "    'X17',\n",
    "    'X18',\n",
    "    'X19',\n",
    "    'X20',\n",
    "    'X21',\n",
    "    'X22'\n",
    ")"
   ]
  },
  {
   "cell_type": "code",
   "execution_count": 1,
   "metadata": {},
   "outputs": [],
   "source": [
    "import pandas as pd\n",
    "import numpy as np\n",
    "\n",
    "archi = pd.read_csv('../graph/edges/edges.tsv', sep='\\t')"
   ]
  },
  {
   "cell_type": "code",
   "execution_count": 31,
   "metadata": {},
   "outputs": [],
   "source": [
    "archi.head()\n",
    "\n",
    "# select row where Nodo1=X1 and Nodo2=X2\n",
    "# archi[(archi['Nodo1'] == 'X1') & (archi['Nodo2'] == 'X2')]\n",
    "# from that, get Stima tempo di percorrenza (min)\n",
    "# archi[(archi['Nodo1'] == 'X1') & (archi['Nodo2'] == 'X2')]['Stima tempo di percorrenza (min)']\n",
    "# as an integer\n",
    "\n",
    "def get_distance(n1, n2):\n",
    "    distance = np.inf\n",
    "    try:\n",
    "        try:\n",
    "            distance = int(archi[(archi['Nodo1'] == n1) & (archi['Nodo2'] == n2)]['Stima tempo di percorrenza (min)'])\n",
    "        except:\n",
    "            distance = int(archi[(archi['Nodo1'] == n2) & (archi['Nodo2'] == n1)]['Stima tempo di percorrenza (min)'])\n",
    "    except:\n",
    "        distance = np.inf\n",
    "        \n",
    "    return distance"
   ]
  },
  {
   "cell_type": "code",
   "execution_count": 33,
   "metadata": {},
   "outputs": [],
   "source": [
    "N = len(nodi)\n",
    "matrix = [[np.inf for x in range(N)] for y in range(N)]\n",
    "\n",
    "for i in range(N):\n",
    "    for j in range(N):\n",
    "        matrix[i][j] = get_distance(nodi[i], nodi[j])"
   ]
  },
  {
   "cell_type": "code",
   "execution_count": 36,
   "metadata": {},
   "outputs": [
    {
     "name": "stdout",
     "output_type": "stream",
     "text": [
      "[[inf inf  7. ... inf inf inf]\n",
      " [inf inf inf ... inf inf inf]\n",
      " [ 7. inf inf ... inf inf inf]\n",
      " ...\n",
      " [inf inf inf ... inf  4. inf]\n",
      " [inf inf inf ...  4. inf inf]\n",
      " [inf inf inf ... inf inf inf]]\n"
     ]
    }
   ],
   "source": [
    "from pprint import pprint\n",
    "\n",
    "npmatrix = np.array(matrix)\n",
    "print(npmatrix)"
   ]
  },
  {
   "cell_type": "code",
   "execution_count": 39,
   "metadata": {},
   "outputs": [],
   "source": [
    "# save the matrix to file for later use\n",
    "np.save('../graph/edges/matrix.npy', npmatrix)"
   ]
  },
  {
   "cell_type": "code",
   "execution_count": 49,
   "metadata": {},
   "outputs": [],
   "source": [
    "# print to file as csv\n",
    "# np.savetxt('matrix.csv', npmatrix, delimiter=';', fmt='%d')\n",
    "# cannot convert float infinity to integer\n",
    "# so we need to convert it to string\n",
    "\n",
    "def convert_to_string(x):\n",
    "    if x == np.inf:\n",
    "        return 'inf'\n",
    "    else:\n",
    "        return str(int(x))\n",
    "\n",
    "npmatrix_str = np.vectorize(convert_to_string)(npmatrix)\n",
    "np.savetxt('../graph/edges/matrix.csv', npmatrix_str, delimiter=';', fmt='%s')"
   ]
  },
  {
   "cell_type": "code",
   "execution_count": 2,
   "metadata": {},
   "outputs": [
    {
     "name": "stdout",
     "output_type": "stream",
     "text": [
      "[[inf inf  7. ... inf inf inf]\n",
      " [inf inf inf ... inf inf inf]\n",
      " [ 7. inf inf ... inf inf inf]\n",
      " ...\n",
      " [inf inf inf ... inf  4. inf]\n",
      " [inf inf inf ...  4. inf inf]\n",
      " [inf inf inf ... inf inf inf]]\n"
     ]
    }
   ],
   "source": [
    "loaded_matrix = np.load('../graph/edges/matrix.npy')\n",
    "\n",
    "print(loaded_matrix)"
   ]
  }
 ],
 "metadata": {
  "kernelspec": {
   "display_name": "mmsd",
   "language": "python",
   "name": "python3"
  },
  "language_info": {
   "codemirror_mode": {
    "name": "ipython",
    "version": 3
   },
   "file_extension": ".py",
   "mimetype": "text/x-python",
   "name": "python",
   "nbconvert_exporter": "python",
   "pygments_lexer": "ipython3",
   "version": "3.8.18"
  }
 },
 "nbformat": 4,
 "nbformat_minor": 2
}

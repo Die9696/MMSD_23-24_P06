{
 "cells": [
  {
   "cell_type": "code",
   "execution_count": 1,
   "metadata": {},
   "outputs": [],
   "source": [
    "def get_time(minute_after_midnight):\n",
    "    # hh:mm\n",
    "    hh = minute_after_midnight // 60\n",
    "    mm = minute_after_midnight % 60\n",
    "    return str(hh) + \":\" + str(mm).zfill(2)\n"
   ]
  },
  {
   "cell_type": "code",
   "execution_count": 2,
   "metadata": {},
   "outputs": [
    {
     "name": "stdout",
     "output_type": "stream",
     "text": [
      "importing Jupyter notebook from dijkstra.ipynb\n",
      "('1', '2', '3', '4', '5n', '5s', '6', '7', '8', '9', '10', '10b', '11n', '11s', '12', '13', '14', '15', '16', '17', '19', '20', '20b', '21', '22', '23', '24', '25/1', '25/2', '26', '31', 'X1', 'X2', 'X3', 'X4', 'X5', 'X6', 'X7', 'X8', 'X9', 'X10', 'X11', 'X12', 'X13', 'X14', 'X15', 'X16', 'X17', 'X18', 'X19', 'X20', 'X21', 'X22')\n",
      "[[inf inf  7. ... inf inf inf]\n",
      " [inf inf inf ... inf inf inf]\n",
      " [ 7. inf inf ... inf inf inf]\n",
      " ...\n",
      " [inf inf inf ... inf  4. inf]\n",
      " [inf inf inf ...  4. inf inf]\n",
      " [inf inf inf ... inf inf inf]]\n",
      "X1 -> X2 -> 9 -> X7 -> X8 -> X13 -> 11n\n",
      "15.0\n",
      "2: [True, True, True, True, True, True, True, True, True, True, True, True, True, True, True, True, True, True, True, True, True, True, True, True, True, True, True, True, True, True, True, True, True, True, True, True, True, True, True, True, True, True, True, True, True, True, True, True, True, True, True, True, True]\n",
      "1: [55.0, 55.0, 48.0, 47.0, 45.0, 44.0, 40.0, 35.0, 40.0, 37.0, 42.0, 48.0, 45.0, 39.0, 38.0, 51.0, 47.0, 47.0, 50.0, 35.0, 22.0, 8.0, 3.0, 0, 26.0, 31.0, 32.0, 20.0, 22.0, 22.0, 33.0, 44.0, 39.0, 41.0, 43.0, 44.0, 47.0, 40.0, 41.0, 43.0, 44.0, 50.0, 45.0, 43.0, 38.0, 35.0, 32.0, 31.0, 28.0, 24.0, 19.0, 15.0, 2.0]\n"
     ]
    }
   ],
   "source": [
    "import import_ipynb\n",
    "from dijkstra import nodes, arc_matrix, get_shortest_path, format_path"
   ]
  },
  {
   "cell_type": "code",
   "execution_count": 3,
   "metadata": {},
   "outputs": [
    {
     "name": "stdout",
     "output_type": "stream",
     "text": [
      "[6 6 0 ... 3 0 5]\n",
      "[0.5290949  0.94135742 0.68025796 0.630908   0.62781515 0.49698971\n",
      " 0.73091927 0.24919444 0.89175426 0.27447266 0.94494501 0.92649671\n",
      " 0.07792452 0.4481797  0.74403628 0.44965407 0.50889902 0.80682394\n",
      " 0.70499216 0.95800422 0.16448599 0.92355929 0.92798625 0.63474894\n",
      " 0.94039083 0.25268559 0.88178728 0.77347929 0.609689   0.09062924\n",
      " 0.03013435 0.         0.         0.         0.         0.\n",
      " 0.         0.         0.         0.         0.         0.\n",
      " 0.         0.         0.         0.         0.         0.\n",
      " 0.         0.         0.         0.         0.        ]\n"
     ]
    }
   ],
   "source": [
    "import random\n",
    "import numpy as np\n",
    "\n",
    "random.seed(0)\n",
    "\n",
    "max_minutes = 24*60\n",
    "\n",
    "distribuzione_tamponi_al_minuto = np.array([random.randint(0, 10) for _ in range(max_minutes)])\n",
    "\n",
    "distribuzione_reparti = np.array([random.random() for _ in range(len(nodes))])\n",
    "junction_nodes_start_index = nodes.index('X1')\n",
    "distribuzione_reparti[junction_nodes_start_index:] = 0\n",
    "# distribuzione_reparti /= distribuzione_reparti.sum()\n",
    "# print(distribuzione_reparti)\n",
    "\n",
    "print(distribuzione_tamponi_al_minuto)\n",
    "print(distribuzione_reparti)"
   ]
  },
  {
   "cell_type": "code",
   "execution_count": 4,
   "metadata": {},
   "outputs": [],
   "source": [
    "## funzioni di aggiornamento dei tamponi\n",
    "def aggiornamento_tamponi(tamponi_per_reparto, current_minute):\n",
    "    return aggiornamento_tamponi_semplice(tamponi_per_reparto, current_minute)\n",
    "\n",
    "# ad-hoc\n",
    "def aggiornamento_tamponi_semplice(tamponi_per_reparto, current_minute):\n",
    "    if(current_minute==1):\n",
    "        reparto = nodes.index('9')\n",
    "        tamponi_per_reparto[reparto] += 10\n",
    "        print(\"Arrivati 10 tamponi al reparto 9\")\n",
    "        \n",
    "    return tamponi_per_reparto\n",
    "\n",
    "# tramite istanza giornaliera\n",
    "def aggiornamento_tamponi_istanza(tamponi_per_reparto, current_minute):\n",
    "    # DA IMPLEMENTARE\n",
    "    return tamponi_per_reparto\n",
    "\n",
    "# tramite distribuzione statistica\n",
    "def aggiornamento_tamponi_statistica(tamponi_per_reparto, current_minute):\n",
    "    nuovi_tamponi_per_reparto = (distribuzione_tamponi_al_minuto[current_minute] * distribuzione_reparti).astype(int)\n",
    "    tamponi_per_reparto += nuovi_tamponi_per_reparto\n",
    "\n",
    "    return tamponi_per_reparto\n"
   ]
  },
  {
   "cell_type": "code",
   "execution_count": 5,
   "metadata": {},
   "outputs": [],
   "source": [
    "## funzioni di pianificazione in caso di assenza di tamponi\n",
    "def pianifica_no_tamponi(tamponi_per_reparto, start, current_minute):\n",
    "    return pianifica_goto_lab(tamponi_per_reparto, start, current_minute)\n",
    "\n",
    "# nessun piano\n",
    "def pianifica_rimani_fermo(tamponi_per_reparto, start, current_minute):\n",
    "    return None\n",
    "\n",
    "# ritorno al laboratorio\n",
    "lab = nodes.index('9')\n",
    "def pianifica_goto_lab(tamponi_per_reparto, start, current_minute):\n",
    "    end = lab\n",
    "    \n",
    "    (path, distance) = get_shortest_path(arc_matrix, start, end)\n",
    "    \n",
    "    path = path[1:]\n",
    "    return path\n"
   ]
  },
  {
   "cell_type": "code",
   "execution_count": 6,
   "metadata": {},
   "outputs": [],
   "source": [
    "## funzioni di pianificazione (lista di nodi nell'ordine in cui si vogliono visitare)\n",
    "def pianifica(tamponi_per_reparto, current_position, current_minute):\n",
    "    return pianifica_gotomax(tamponi_per_reparto, current_position, current_minute)\n",
    "\n",
    "# si va al reparto con più tamponi da raccogliere, il piano è calcolato con Dijkstra\n",
    "def pianifica_gotomax(tamponi_per_reparto, start, current_minute):\n",
    "    end = np.argmax(tamponi_per_reparto)\n",
    "    \n",
    "    if tamponi_per_reparto[end] == 0: # non ci sono tamponi da raccogliere\n",
    "        return pianifica_no_tamponi(tamponi_per_reparto, start, current_minute)\n",
    "\n",
    "    (path, distance) = get_shortest_path(arc_matrix, start, end)\n",
    "\n",
    "    path = path[1:]\n",
    "    return path\n"
   ]
  },
  {
   "cell_type": "code",
   "execution_count": 7,
   "metadata": {},
   "outputs": [],
   "source": [
    "## funzioni di valutazione dei piani\n",
    "def get_score(tamponi_per_reparto, current_position, current_minute, piano):\n",
    "    return get_score_density(tamponi_per_reparto, current_position, current_minute, piano)\n",
    "\n",
    "# score = somma dei tamponi da raccogliere diviso il tempo di percorrenza (tamponi/minuto)\n",
    "def get_score_density(tamponi_per_reparto, current_position, current_minute, piano):\n",
    "    if piano in (None, []):\n",
    "        return 0\n",
    "\n",
    "    score = sum(tamponi_per_reparto[p] for p in piano)\n",
    "    _, distanza = get_shortest_path(arc_matrix, current_position, piano[-1])\n",
    "    score /= distanza\n",
    "    return score"
   ]
  },
  {
   "cell_type": "code",
   "execution_count": 8,
   "metadata": {},
   "outputs": [],
   "source": [
    "def reconsider(tamponi_per_reparto, current_position, current_minute, piano):\n",
    "    score = get_score(tamponi_per_reparto, current_position, current_minute, piano)\n",
    "    \n",
    "    piano_alternativo = pianifica(tamponi_per_reparto, current_position, current_minute)\n",
    "    score_alternativo = get_score(tamponi_per_reparto, current_position, current_minute, piano_alternativo)\n",
    "    \n",
    "    return score_alternativo > score, piano_alternativo"
   ]
  },
  {
   "cell_type": "code",
   "execution_count": 9,
   "metadata": {},
   "outputs": [],
   "source": [
    "def move_toward(current_position, next_position, moving_time):\n",
    "    distance = int(get_shortest_path(arc_matrix, current_position, next_position)[1])\n",
    "    moving_time = min(moving_time+1, distance)\n",
    "    print(f\"Moving from {nodes[current_position]} to {nodes[next_position]} ... {moving_time}/{distance}\")\n",
    "    return distance, moving_time"
   ]
  },
  {
   "cell_type": "code",
   "execution_count": 10,
   "metadata": {},
   "outputs": [],
   "source": [
    "def get_status(current_minute, current_position, tamponi_trasportati):\n",
    "    return f\"Ora {get_time(current_minute)} Current position: {nodes[current_position]} Tamponi trasporati: {tamponi_trasportati}\""
   ]
  },
  {
   "cell_type": "code",
   "execution_count": 11,
   "metadata": {},
   "outputs": [
    {
     "name": "stdout",
     "output_type": "stream",
     "text": [
      "Ora 0:00 Current position: X1 Tamponi trasporati: 0\n",
      "Piano: X2 -> 6\n",
      "Moving from X1 to X2 ... 1/5\n",
      "\n",
      "Ora 0:01 Current position: X1 Tamponi trasporati: 0\n",
      "Arrivati 10 tamponi al reparto 9\n",
      "Riconsidero il piano X2 -> 6 con il piano alternativo X2 -> 9\n",
      "Piano: X2 -> 9\n",
      "Moving from X1 to X2 ... 2/5\n",
      "\n",
      "Ora 0:02 Current position: X1 Tamponi trasporati: 0\n",
      "Piano: X2 -> 9\n",
      "Moving from X1 to X2 ... 3/5\n",
      "\n",
      "Ora 0:03 Current position: X1 Tamponi trasporati: 0\n",
      "Piano: X2 -> 9\n",
      "Moving from X1 to X2 ... 4/5\n",
      "\n",
      "Ora 0:04 Current position: X1 Tamponi trasporati: 0\n",
      "Piano: X2 -> 9\n",
      "Moving from X1 to X2 ... 5/5\n",
      "Arrivato al nodo X2\n",
      "\n",
      "Ora 0:05 Current position: X2 Tamponi trasporati: 0\n",
      "Piano: 9\n",
      "Moving from X2 to 9 ... 1/2\n",
      "\n",
      "Ora 0:06 Current position: X2 Tamponi trasporati: 0\n",
      "Piano: 9\n",
      "Moving from X2 to 9 ... 2/2\n",
      "Arrivato al nodo 9\n",
      "Tamponi raccolti: 10\n",
      "\n",
      "Ora 0:07 Current position: 9 Tamponi trasporati: 10\n",
      "Piano: No path\n",
      "\n",
      "Ora 0:08 Current position: 9 Tamponi trasporati: 10\n",
      "Piano: X2 -> 6\n",
      "Moving from 9 to X2 ... 1/2\n",
      "\n",
      "Ora 0:09 Current position: 9 Tamponi trasporati: 10\n",
      "Piano: X2 -> 6\n",
      "Moving from 9 to X2 ... 2/2\n",
      "Arrivato al nodo X2\n",
      "\n",
      "Ora 0:10 Current position: X2 Tamponi trasporati: 10\n",
      "Piano: 6\n",
      "Moving from X2 to 6 ... 1/1\n",
      "Arrivato al nodo 6\n",
      "\n",
      "Ora 0:11 Current position: 6 Tamponi trasporati: 10\n",
      "Piano: No path\n"
     ]
    }
   ],
   "source": [
    "tamponi_per_reparto = np.zeros(len(nodes)).astype(int)\n",
    "current_position = nodes.index('X1')\n",
    "current_minute = 0\n",
    "moving_time = 0\n",
    "tamponi_trasportati = 0\n",
    "\n",
    "while current_minute < max_minutes:\n",
    "    print(get_status(current_minute, current_position, tamponi_trasportati))\n",
    "        \n",
    "    tamponi_per_reparto = aggiornamento_tamponi(tamponi_per_reparto, current_minute)\n",
    "    # print(tamponi_per_reparto)\n",
    "\n",
    "    piano = pianifica(tamponi_per_reparto, current_position, current_minute)\n",
    "    print(f\"Piano: {format_path(piano)}\")\n",
    "\n",
    "    while piano not in [[], None]:\n",
    "        next_position = piano[0]\n",
    "        distance, moving_time = move_toward(current_position, next_position, moving_time)\n",
    "        current_minute += 1\n",
    "        \n",
    "        if distance == moving_time: # arrivato a destinazione\n",
    "            print(f\"Arrivato al nodo {nodes[next_position]}\")\n",
    "            current_position = next_position\n",
    "            piano = piano[1:]\n",
    "            moving_time = 0\n",
    "            \n",
    "            if tamponi_per_reparto[current_position] > 0:\n",
    "                print(f\"Tamponi raccolti: {tamponi_per_reparto[current_position]}\")\n",
    "                tamponi_trasportati += tamponi_per_reparto[current_position]\n",
    "                tamponi_per_reparto[current_position] = 0\n",
    "        \n",
    "        print()\n",
    "        print(get_status(current_minute, current_position, tamponi_trasportati))\n",
    "        \n",
    "        tamponi_per_reparto = aggiornamento_tamponi(tamponi_per_reparto, current_minute)\n",
    "        # print(tamponi_per_reparto)\n",
    "\n",
    "        rif, piano_alternativo = reconsider(tamponi_per_reparto, current_position, current_minute, piano)\n",
    "        if rif:\n",
    "            print(f\"Riconsidero il piano {format_path(piano)} con il piano alternativo {format_path(piano_alternativo)}\")\n",
    "            piano = piano_alternativo\n",
    "        \n",
    "        print(f\"Piano: {format_path(piano)}\")\n",
    "        \n",
    "        # TESTING\n",
    "        if current_minute > 10:\n",
    "            break\n",
    "    \n",
    "    # TESTING\n",
    "    if current_minute > 10:\n",
    "        break\n",
    "\n",
    "    current_minute += 1\n",
    "    print()"
   ]
  }
 ],
 "metadata": {
  "kernelspec": {
   "display_name": "mmsd",
   "language": "python",
   "name": "python3"
  },
  "language_info": {
   "codemirror_mode": {
    "name": "ipython",
    "version": 3
   },
   "file_extension": ".py",
   "mimetype": "text/x-python",
   "name": "python",
   "nbconvert_exporter": "python",
   "pygments_lexer": "ipython3",
   "version": "3.8.18"
  }
 },
 "nbformat": 4,
 "nbformat_minor": 2
}

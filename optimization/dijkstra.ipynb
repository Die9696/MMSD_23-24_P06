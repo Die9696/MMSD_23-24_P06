{
 "cells": [
  {
   "cell_type": "code",
   "execution_count": 17,
   "metadata": {},
   "outputs": [],
   "source": [
    "import numpy as np"
   ]
  },
  {
   "cell_type": "code",
   "execution_count": 18,
   "metadata": {},
   "outputs": [
    {
     "name": "stdout",
     "output_type": "stream",
     "text": [
      "('1', '2', '3', '4', '5n', '5s', '6', '7', '8', '9', '10', '10b', '11n', '11s', '12', '13', '14', '15', '16', '17', '19', '20', '20b', '21', '22', '23', '24', '25/1', '25/2', '26', '31', 'X1', 'X2', 'X3', 'X4', 'X5', 'X6', 'X7', 'X8', 'X9', 'X10', 'X11', 'X12', 'X13', 'X14', 'X15', 'X16', 'X17', 'X18', 'X19', 'X20', 'X21', 'X22')\n",
      "[[inf inf  7. ... inf inf inf]\n",
      " [inf inf inf ... inf inf inf]\n",
      " [ 7. inf inf ... inf inf inf]\n",
      " ...\n",
      " [inf inf inf ... inf  4. inf]\n",
      " [inf inf inf ...  4. inf inf]\n",
      " [inf inf inf ... inf inf inf]]\n"
     ]
    }
   ],
   "source": [
    "nodes = (\n",
    "    '1', # 1 - ANESTESIOLOGICA\n",
    "    '2',\n",
    "    '3',\n",
    "    '4',\n",
    "    '5n',\n",
    "    '5s',\n",
    "    '6',\n",
    "    '7',\n",
    "    '8',\n",
    "    '9',\n",
    "    '10',\n",
    "    '10b',\n",
    "    '11n',\n",
    "    '11s',\n",
    "    '12',\n",
    "    '13',\n",
    "    '14',\n",
    "    '15',\n",
    "    '16',\n",
    "    '17',\n",
    "    '19',\n",
    "    '20',\n",
    "    '20b',\n",
    "    '21',\n",
    "    '22',\n",
    "    '23',\n",
    "    '24',\n",
    "    '25/1',\n",
    "    '25/2',\n",
    "    '26',\n",
    "    '31',\n",
    "    'X1',\n",
    "    'X2',\n",
    "    'X3',\n",
    "    'X4',\n",
    "    'X5',\n",
    "    'X6',\n",
    "    'X7',\n",
    "    'X8',\n",
    "    'X9',\n",
    "    'X10',\n",
    "    'X11',\n",
    "    'X12',\n",
    "    'X13',\n",
    "    'X14',\n",
    "    'X15',\n",
    "    'X16',\n",
    "    'X17',\n",
    "    'X18',\n",
    "    'X19',\n",
    "    'X20',\n",
    "    'X21',\n",
    "    'X22'\n",
    ")\n",
    "\n",
    "arc_matrix = np.load('../graph/edges/matrix.npy')\n",
    "\n",
    "print(nodes)\n",
    "print(arc_matrix)"
   ]
  },
  {
   "cell_type": "code",
   "execution_count": 19,
   "metadata": {},
   "outputs": [],
   "source": [
    "def dijkstra(arc_matrix, start):\n",
    "    n = len(arc_matrix)\n",
    "    visited = [False] * n\n",
    "    distances = [float('inf')] * n\n",
    "    distances[start] = 0\n",
    "    prev = [-1] * n\n",
    "    # prev = np.array(prev).astype(int)\n",
    "    for _ in range(n):\n",
    "        min_distance = float('inf')\n",
    "        min_index = -1\n",
    "        for i in range(n):\n",
    "            if not visited[i] and distances[i] < min_distance:\n",
    "                min_distance = distances[i]\n",
    "                min_index = i\n",
    "        visited[min_index] = True\n",
    "        for i in range(n):\n",
    "            if not visited[i] and arc_matrix[min_index][i] > 0 and distances[i] > distances[min_index] + arc_matrix[min_index][i]:\n",
    "                distances[i] = distances[min_index] + arc_matrix[min_index][i]\n",
    "                prev[i] = min_index\n",
    "    return distances, prev\n",
    "\n",
    "def get_shortest_path(arc_matrix, start, end, prev=None):\n",
    "    n = len(arc_matrix)\n",
    "    visited = [False] * n\n",
    "    distance = [float('inf')] * n\n",
    "    distance[start] = 0\n",
    "    \n",
    "    if prev is None:\n",
    "        prev = [-1] * n\n",
    "        for _ in range(n):\n",
    "            min_distance = float('inf')\n",
    "            min_index = -1\n",
    "            for i in range(n):\n",
    "                if not visited[i] and distance[i] < min_distance:\n",
    "                    min_distance = distance[i]\n",
    "                    min_index = i\n",
    "            visited[min_index] = True\n",
    "            for i in range(n):\n",
    "                if not visited[i] and arc_matrix[min_index][i] > 0 and distance[i] > distance[min_index] + arc_matrix[min_index][i]:\n",
    "                    distance[i] = distance[min_index] + arc_matrix[min_index][i]\n",
    "                    prev[i] = min_index\n",
    "    \n",
    "    path = []\n",
    "    index = end\n",
    "    while index != -1:\n",
    "        path.append(index)\n",
    "        index = prev[index]\n",
    "    return (path[::-1], distance[end])\n",
    "\n",
    "def format_path(path):\n",
    "    if path in (None, []):\n",
    "        return 'No path'\n",
    "    \n",
    "    string = ''\n",
    "    for p in path:\n",
    "        if string != '':\n",
    "            string += ' -> '\n",
    "        string += nodes[p]\n",
    "    return string"
   ]
  },
  {
   "cell_type": "code",
   "execution_count": 20,
   "metadata": {},
   "outputs": [
    {
     "name": "stdout",
     "output_type": "stream",
     "text": [
      "X1 -> X2 -> 9 -> 7\n",
      "9.0\n"
     ]
    }
   ],
   "source": [
    "# get shortest path from start to end\n",
    "start = nodes.index('X1')\n",
    "end = nodes.index('7')\n",
    "\n",
    "(path, distance) = get_shortest_path(arc_matrix, start, end)\n",
    "print(format_path(path))\n",
    "print(distance)\n"
   ]
  },
  {
   "cell_type": "code",
   "execution_count": 21,
   "metadata": {},
   "outputs": [
    {
     "name": "stdout",
     "output_type": "stream",
     "text": [
      "2: [2, 36, 35, 35, 33, 33, 32, 47, 32, 7, 37, 42, 43, 44, 45, 41, 40, 40, 17, 46, 50, 52, 52, -1, 49, 48, 47, 51, 27, 50, 25, 32, 9, 9, 33, 34, 34, 9, 37, 38, 39, 16, 39, 38, 45, 46, 47, 48, 49, 50, 51, 21, 23]\n",
      "1: [55.0, 55.0, 48.0, 47.0, 45.0, 44.0, 40.0, 35.0, 40.0, 37.0, 42.0, 48.0, 45.0, 39.0, 38.0, 51.0, 47.0, 47.0, 50.0, 35.0, 22.0, 8.0, 3.0, 0, 26.0, 31.0, 32.0, 20.0, 22.0, 22.0, 33.0, 44.0, 39.0, 41.0, 43.0, 44.0, 47.0, 40.0, 41.0, 43.0, 44.0, 50.0, 45.0, 43.0, 38.0, 35.0, 32.0, 31.0, 28.0, 24.0, 19.0, 15.0, 2.0]\n"
     ]
    }
   ],
   "source": [
    "# from start, get all distances, sorted by distance\n",
    "start = nodes.index('21')\n",
    "\n",
    "distances = dijkstra(arc_matrix, start)\n",
    "sorted_distances = sorted(enumerate(distances), key=lambda x: x[1])\n",
    "for i, d in sorted_distances:\n",
    "    print(f'{nodes[i]}: {d}')"
   ]
  }
 ],
 "metadata": {
  "kernelspec": {
   "display_name": "mmsd",
   "language": "python",
   "name": "python3"
  },
  "language_info": {
   "codemirror_mode": {
    "name": "ipython",
    "version": 3
   },
   "file_extension": ".py",
   "mimetype": "text/x-python",
   "name": "python",
   "nbconvert_exporter": "python",
   "pygments_lexer": "ipython3",
   "version": "3.8.18"
  }
 },
 "nbformat": 4,
 "nbformat_minor": 2
}

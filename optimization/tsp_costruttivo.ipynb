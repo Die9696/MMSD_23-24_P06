{
 "cells": [
  {
   "cell_type": "code",
   "execution_count": 53,
   "metadata": {},
   "outputs": [],
   "source": [
    "import import_ipynb\n",
    "from dijkstra import nodes, arc_matrix, get_shortest_path, dijkstra, format_path\n",
    "\n",
    "from pprint import pprint\n",
    "import numpy as np\n"
   ]
  },
  {
   "cell_type": "code",
   "execution_count": 54,
   "metadata": {},
   "outputs": [],
   "source": [
    "def init_tamponi_per_reparto():\n",
    "    tamponi_per_reparto = np.array([0, 0, 0, 3, 0, 0, 0, 6, 0, 0, 0, 0, 12, 0, 0, 0, 7, 0, 0, 0, 10, 0,\n",
    "        0, 0, 3, 0, 1, 0, 4, 0, 0, 0, 0, 0, 0, 0, 0, 0, 0, 0, 0, 0, 0, 0,\n",
    "        0, 0, 0, 0, 0, 0, 0, 0, 0]).astype(int)\n",
    "\n",
    "    return tamponi_per_reparto"
   ]
  },
  {
   "cell_type": "code",
   "execution_count": 55,
   "metadata": {},
   "outputs": [
    {
     "name": "stdout",
     "output_type": "stream",
     "text": [
      "[ 0  0  0  3  0  0  0  6  0  0  0  0 12  0  0  0  7  0  0  0 10  0  0  0\n",
      "  3  0  1  0  4  0  0  0  0  0  0  0  0  0  0  0  0  0  0  0  0  0  0  0\n",
      "  0  0  0  0  0]\n"
     ]
    }
   ],
   "source": [
    "tamponi_per_reparto = init_tamponi_per_reparto()\n",
    "print(tamponi_per_reparto)"
   ]
  },
  {
   "cell_type": "code",
   "execution_count": 56,
   "metadata": {},
   "outputs": [],
   "source": [
    "def estrai_reparti_con_tamponi(tamponi_per_reparto):\n",
    "    return [i for i,t in enumerate(tamponi_per_reparto) if t > 0]"
   ]
  },
  {
   "cell_type": "code",
   "execution_count": 57,
   "metadata": {},
   "outputs": [
    {
     "name": "stdout",
     "output_type": "stream",
     "text": [
      "0. Reparto con indice 3 e nome '4' ha 0 tamponi\n",
      "1. Reparto con indice 7 e nome '7' ha 0 tamponi\n",
      "2. Reparto con indice 12 e nome '11n' ha 0 tamponi\n",
      "3. Reparto con indice 16 e nome '14' ha 3 tamponi\n",
      "4. Reparto con indice 20 e nome '19' ha 0 tamponi\n",
      "5. Reparto con indice 24 e nome '22' ha 0 tamponi\n",
      "6. Reparto con indice 26 e nome '24' ha 0 tamponi\n",
      "7. Reparto con indice 28 e nome '25/2' ha 6 tamponi\n"
     ]
    }
   ],
   "source": [
    "reparti_con_tamponi = estrai_reparti_con_tamponi(tamponi_per_reparto)\n",
    "\n",
    "for index,node in enumerate(reparti_con_tamponi):\n",
    "    print(f\"{index}. Reparto con indice {node} e nome '{nodes[node]}' ha {tamponi_per_reparto[index]} tamponi\")"
   ]
  },
  {
   "cell_type": "code",
   "execution_count": 58,
   "metadata": {},
   "outputs": [],
   "source": [
    "def compute_score_matrix(arc_matrix, reparti_con_tamponi, tamponi_per_reparto):\n",
    "    reparti_con_tamponi = np.array(reparti_con_tamponi)\n",
    "    score_matrix = np.zeros((len(reparti_con_tamponi), len(reparti_con_tamponi)))\n",
    "    for i, indice_reparto in enumerate(reparti_con_tamponi):\n",
    "        time = np.array(dijkstra(arc_matrix, indice_reparto))\n",
    "        time = time[reparti_con_tamponi]\n",
    "        score_matrix[i] = np.divide(tamponi_per_reparto[reparti_con_tamponi], time, out=-np.inf*np.ones_like(time), where=time!=0)\n",
    "    return score_matrix"
   ]
  },
  {
   "cell_type": "code",
   "execution_count": 59,
   "metadata": {},
   "outputs": [],
   "source": [
    "def retrieve_best_score(score_matrix, index):\n",
    "    return np.argmax(score_matrix[index]), np.max(score_matrix[index])"
   ]
  },
  {
   "cell_type": "code",
   "execution_count": 60,
   "metadata": {},
   "outputs": [
    {
     "name": "stdout",
     "output_type": "stream",
     "text": [
      "0. Reparto con indice 3 e nome '4' ha best score in reparto 2. indice 12 con nome '11n' con score 0.6666666666666666\n",
      "1. Reparto con indice 7 e nome '7' ha best score in reparto 2. indice 12 con nome '11n' con score 1.2\n",
      "2. Reparto con indice 12 e nome '11n' ha best score in reparto 3. indice 16 con nome '14' con score 0.7\n",
      "3. Reparto con indice 16 e nome '14' ha best score in reparto 2. indice 12 con nome '11n' con score 1.2\n",
      "4. Reparto con indice 20 e nome '19' ha best score in reparto 2. indice 12 con nome '11n' con score 0.41379310344827586\n",
      "5. Reparto con indice 24 e nome '22' ha best score in reparto 4. indice 20 con nome '19' con score 1.0\n",
      "6. Reparto con indice 26 e nome '24' ha best score in reparto 1. indice 7 con nome '7' con score 1.2\n",
      "7. Reparto con indice 28 e nome '25/2' ha best score in reparto 4. indice 20 con nome '19' con score 0.7142857142857143\n"
     ]
    }
   ],
   "source": [
    "score_matrix = compute_score_matrix(arc_matrix, reparti_con_tamponi, tamponi_per_reparto)\n",
    "for index,node in enumerate(reparti_con_tamponi):\n",
    "    best_index, best_score = retrieve_best_score(score_matrix, index)\n",
    "    print(f\"{index}. Reparto con indice {node} e nome '{nodes[node]}' ha best score in reparto {best_index}. indice {reparti_con_tamponi[best_index]} con nome '{nodes[reparti_con_tamponi[best_index]]}' con score {best_score}\")"
   ]
  },
  {
   "cell_type": "code",
   "execution_count": 61,
   "metadata": {},
   "outputs": [],
   "source": [
    "def get_index_from_node(node, reparti_con_tamponi):\n",
    "    try:\n",
    "        index = reparti_con_tamponi.index(node)\n",
    "    except:\n",
    "        index = -1\n",
    "        print(\"Nodo non trovato\")\n",
    "    return index"
   ]
  },
  {
   "cell_type": "code",
   "execution_count": 62,
   "metadata": {},
   "outputs": [],
   "source": [
    "def get_next_node(start_node, reparti_con_tamponi, score_matrix):\n",
    "    index = get_index_from_node(start_node, reparti_con_tamponi)\n",
    "    next_index, _ = retrieve_best_score(score_matrix, index)\n",
    "    score_matrix[:,index] = -np.inf\n",
    "    return reparti_con_tamponi[next_index]"
   ]
  },
  {
   "cell_type": "code",
   "execution_count": 63,
   "metadata": {},
   "outputs": [],
   "source": [
    "def stop_condition(residual_time):\n",
    "    return residual_time <= 0 # aggiungere tempo al lab"
   ]
  },
  {
   "cell_type": "code",
   "execution_count": 69,
   "metadata": {},
   "outputs": [],
   "source": [
    "def build_tsp_path(arc_matrix, reparti_con_tamponi, tamponi_per_reparto, residual_time, current_node):\n",
    "    path = []\n",
    "    score_matrix = compute_score_matrix(arc_matrix, reparti_con_tamponi, tamponi_per_reparto)\n",
    "\n",
    "    while not stop_condition(residual_time):\n",
    "        next_node = get_next_node(current_node, reparti_con_tamponi, score_matrix)\n",
    "        tempo_di_percorrenza = dijkstra(arc_matrix, current_node)[next_node]\n",
    "        residual_time -= tempo_di_percorrenza\n",
    "        print(f\"Next node from {nodes[current_node]} is {nodes[next_node]} with time {tempo_di_percorrenza}. Residual time is {residual_time}\")\n",
    "        \n",
    "        path.append(next_node)\n",
    "        current_node = next_node\n",
    "    \n",
    "    return path"
   ]
  },
  {
   "cell_type": "code",
   "execution_count": 70,
   "metadata": {},
   "outputs": [
    {
     "name": "stdout",
     "output_type": "stream",
     "text": [
      "Next node from 4 is 11n with time 18.0. Residual time is 102.0\n",
      "Next node from 11n is 14 with time 10.0. Residual time is 92.0\n",
      "Next node from 14 is 7 with time 12.0. Residual time is 80.0\n",
      "Next node from 7 is 19 with time 19.0. Residual time is 61.0\n",
      "Next node from 19 is 22 with time 10.0. Residual time is 51.0\n",
      "Next node from 22 is 25/2 with time 18.0. Residual time is 33.0\n",
      "Next node from 25/2 is 24 with time 24.0. Residual time is 9.0\n",
      "Next node from 24 is 4 with time 17.0. Residual time is -8.0\n",
      "Path: 11n -> 14 -> 7 -> 19 -> 22 -> 25/2 -> 24 -> 4\n"
     ]
    }
   ],
   "source": [
    "start_node = nodes.index('4')\n",
    "residual_time = 120\n",
    "\n",
    "path = build_tsp_path(arc_matrix, reparti_con_tamponi, tamponi_per_reparto, residual_time, start_node)\n",
    "print(f\"Path: {format_path(path)}\")"
   ]
  },
  {
   "cell_type": "code",
   "execution_count": 65,
   "metadata": {},
   "outputs": [
    {
     "name": "stdout",
     "output_type": "stream",
     "text": [
      "Nodo non trovato\n"
     ]
    },
    {
     "data": {
      "text/plain": [
       "-1"
      ]
     },
     "execution_count": 65,
     "metadata": {},
     "output_type": "execute_result"
    }
   ],
   "source": [
    "# TODO\n",
    "# matrice di score tra start_node e i reparti con tamponi\n",
    "# matrice di score tra i reparti con tamponi e laboratorio\n",
    "\n",
    "start_node = nodes.index('X1')\n",
    "index = get_index_from_node(start_node, reparti_con_tamponi)\n",
    "index"
   ]
  }
 ],
 "metadata": {
  "kernelspec": {
   "display_name": "mmsd",
   "language": "python",
   "name": "python3"
  },
  "language_info": {
   "codemirror_mode": {
    "name": "ipython",
    "version": 3
   },
   "file_extension": ".py",
   "mimetype": "text/x-python",
   "name": "python",
   "nbconvert_exporter": "python",
   "pygments_lexer": "ipython3",
   "version": "3.8.18"
  }
 },
 "nbformat": 4,
 "nbformat_minor": 2
}

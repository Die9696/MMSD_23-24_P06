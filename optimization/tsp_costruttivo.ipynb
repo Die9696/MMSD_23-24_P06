{
 "cells": [
  {
   "cell_type": "code",
   "execution_count": 441,
   "metadata": {},
   "outputs": [],
   "source": [
    "import import_ipynb\n",
    "from dijkstra import nodes, arc_matrix, get_shortest_path, dijkstra, format_path\n",
    "\n",
    "from pprint import pprint\n",
    "import numpy as np\n"
   ]
  },
  {
   "cell_type": "code",
   "execution_count": 442,
   "metadata": {},
   "outputs": [],
   "source": [
    "def init_tamponi_per_reparto():\n",
    "    tamponi_per_reparto = np.array([0, 0, 0, 3, 0, 0, 0, 6, 0, 0, 0, 0, 12, 0, 0, 0, 7, 0, 0, 0, 10, 0,\n",
    "        0, 0, 3, 0, 30, 0, 4, 0, 0, 0, 0, 0, 0, 0, 0, 0, 0, 0, 0, 0, 0, 0,\n",
    "        0, 0, 0, 0, 0, 0, 0, 0, 0]).astype(int)\n",
    "\n",
    "    return tamponi_per_reparto"
   ]
  },
  {
   "cell_type": "code",
   "execution_count": 443,
   "metadata": {},
   "outputs": [
    {
     "name": "stdout",
     "output_type": "stream",
     "text": [
      "[ 0  0  0  3  0  0  0  6  0  0  0  0 12  0  0  0  7  0  0  0 10  0  0  0\n",
      "  3  0 30  0  4  0  0  0  0  0  0  0  0  0  0  0  0  0  0  0  0  0  0  0\n",
      "  0  0  0  0  0]\n"
     ]
    }
   ],
   "source": [
    "tamponi_per_reparto = init_tamponi_per_reparto()\n",
    "print(tamponi_per_reparto)"
   ]
  },
  {
   "cell_type": "code",
   "execution_count": 444,
   "metadata": {},
   "outputs": [],
   "source": [
    "def estrai_reparti_con_tamponi(tamponi_per_reparto):\n",
    "    return [i for i,t in enumerate(tamponi_per_reparto) if t > 0]"
   ]
  },
  {
   "cell_type": "code",
   "execution_count": 445,
   "metadata": {},
   "outputs": [
    {
     "name": "stdout",
     "output_type": "stream",
     "text": [
      "[3, 7, 12, 16, 20, 24, 26, 28]\n",
      "0. Reparto con indice 3 e nome '4' ha 3 tamponi\n",
      "1. Reparto con indice 7 e nome '7' ha 6 tamponi\n",
      "2. Reparto con indice 12 e nome '11n' ha 12 tamponi\n",
      "3. Reparto con indice 16 e nome '14' ha 7 tamponi\n",
      "4. Reparto con indice 20 e nome '19' ha 10 tamponi\n",
      "5. Reparto con indice 24 e nome '22' ha 3 tamponi\n",
      "6. Reparto con indice 26 e nome '24' ha 30 tamponi\n",
      "7. Reparto con indice 28 e nome '25/2' ha 4 tamponi\n"
     ]
    }
   ],
   "source": [
    "reparti_con_tamponi = estrai_reparti_con_tamponi(tamponi_per_reparto)\n",
    "\n",
    "print(reparti_con_tamponi)\n",
    "\n",
    "for index,node in enumerate(reparti_con_tamponi):\n",
    "    print(f\"{index}. Reparto con indice {node} e nome '{nodes[node]}' ha {tamponi_per_reparto[node]} tamponi\")"
   ]
  },
  {
   "cell_type": "code",
   "execution_count": 446,
   "metadata": {},
   "outputs": [],
   "source": [
    "## SCORE MATRIX\n",
    "\n",
    "# conteggio dei tamponi in ogni nodo dato un path (oppure un nodo di partenza) \n",
    "def compute_tamponi_in_nodo(p, prev, tamponi_per_reparto, tamponi_per_path, start_node=None):\n",
    "    if prev is None and start_node is not None:\n",
    "        _, prev = np.array(dijkstra(arc_matrix, start_node))\n",
    "        tamponi_per_path = -1 * np.ones(len(prev))\n",
    "    \n",
    "    path = []\n",
    "    path.append(p)\n",
    "\n",
    "    prev = np.array(prev).astype(int)\n",
    "    while p != -1:\n",
    "        p = prev[p]\n",
    "        path.append(p)\n",
    "\n",
    "    path = path[::-1] # reverse\n",
    "    path = path[1:] # remove start node\n",
    "\n",
    "    temp_tamponi = 0\n",
    "    for p in path:\n",
    "        if tamponi_per_path[p] == -1:\n",
    "            # print(p,\"aggiungo questo reparto al dizionario\")\n",
    "            temp_tamponi += tamponi_per_reparto[p]\n",
    "            tamponi_per_path[p] = temp_tamponi\n",
    "        else:\n",
    "            temp_tamponi = tamponi_per_path[p]\n",
    "        \n",
    "        # print(p, nodes[p], tamponi_per_reparto[p], temp_tamponi)\n",
    "    \n",
    "    return tamponi_per_path\n",
    "        \n",
    "\n",
    "def compute_score_row(arc_matrix, reparti_con_tamponi, indice_reparto, tamponi_per_reparto):\n",
    "    time, prev = np.array(dijkstra(arc_matrix, indice_reparto))\n",
    "    # print(prev)\n",
    "    \n",
    "    ## TAMPONI PER PATH\n",
    "    tamponi_per_path = -1 * np.ones(len(prev))\n",
    "    for reparto in reparti_con_tamponi:\n",
    "        tamponi_per_path = compute_tamponi_in_nodo(reparto, prev, tamponi_per_reparto, tamponi_per_path)\n",
    "    ## TAMPONI IN NODO FINALE\n",
    "    # tamponi_per_path = tamponi_per_reparto.copy()\n",
    "    \n",
    "    \n",
    "    time = time[reparti_con_tamponi]\n",
    "    tamponi_per_path = tamponi_per_path[reparti_con_tamponi]\n",
    "    \n",
    "    # print(tamponi_per_path)\n",
    "    density_score = np.divide(tamponi_per_path, time, out=-np.inf*np.ones_like(time), where=time!=0)\n",
    "    return density_score\n",
    "\n",
    "# tamponi / minuto\n",
    "def compute_score_matrix(arc_matrix, reparti_con_tamponi, tamponi_per_reparto):\n",
    "    return compute_density_matrix(arc_matrix, reparti_con_tamponi, tamponi_per_reparto)\n",
    "\n",
    "def compute_density_matrix(arc_matrix, reparti_con_tamponi, tamponi_per_reparto):\n",
    "    reparti_con_tamponi = np.array(reparti_con_tamponi)\n",
    "    score_matrix = np.zeros((len(reparti_con_tamponi), len(reparti_con_tamponi)))\n",
    "    for i, indice_reparto in enumerate(reparti_con_tamponi):\n",
    "        score_matrix[i] = compute_score_row(arc_matrix, reparti_con_tamponi, indice_reparto, tamponi_per_reparto)\n",
    "    return score_matrix"
   ]
  },
  {
   "cell_type": "code",
   "execution_count": 447,
   "metadata": {},
   "outputs": [],
   "source": [
    "def retrieve_best_score(score_matrix, index=None):\n",
    "    if index is not None: # per score_matrix\n",
    "        return np.argmax(score_matrix[index]), np.max(score_matrix[index])\n",
    "    else:\n",
    "        return np.argmax(score_matrix), np.max(score_matrix)"
   ]
  },
  {
   "cell_type": "code",
   "execution_count": 448,
   "metadata": {},
   "outputs": [
    {
     "name": "stdout",
     "output_type": "stream",
     "text": [
      "0. Reparto con indice 3 e nome '4' ha best score in reparto 6. indice 26 con nome '24' con score 2.2941176470588234\n",
      "1. Reparto con indice 7 e nome '7' ha best score in reparto 6. indice 26 con nome '24' con score 7.2\n",
      "2. Reparto con indice 12 e nome '11n' ha best score in reparto 6. indice 26 con nome '24' con score 3.2\n",
      "3. Reparto con indice 16 e nome '14' ha best score in reparto 6. indice 26 con nome '24' con score 2.5294117647058822\n",
      "4. Reparto con indice 20 e nome '19' ha best score in reparto 6. indice 26 con nome '24' con score 2.5\n",
      "5. Reparto con indice 24 e nome '22' ha best score in reparto 6. indice 26 con nome '24' con score 3.3\n",
      "6. Reparto con indice 26 e nome '24' ha best score in reparto 1. indice 7 con nome '7' con score 7.2\n",
      "7. Reparto con indice 28 e nome '25/2' ha best score in reparto 6. indice 26 con nome '24' con score 1.4166666666666667\n"
     ]
    }
   ],
   "source": [
    "score_matrix = compute_score_matrix(arc_matrix, reparti_con_tamponi, tamponi_per_reparto)\n",
    "for index,node in enumerate(reparti_con_tamponi):\n",
    "    best_index, best_score = retrieve_best_score(score_matrix, index)\n",
    "    print(f\"{index}. Reparto con indice {node} e nome '{nodes[node]}' ha best score in reparto {best_index}. indice {reparti_con_tamponi[best_index]} con nome '{nodes[reparti_con_tamponi[best_index]]}' con score {best_score}\")"
   ]
  },
  {
   "cell_type": "code",
   "execution_count": 449,
   "metadata": {},
   "outputs": [],
   "source": [
    "def check_reparto_intermedio(start_node, next_index, reparti_con_tamponi, tamponi_per_reparto):\n",
    "    # controllo: se all'interno del path c'è un nodo con tamponi, allora scelgo quello\n",
    "    \n",
    "    path, _ = get_shortest_path(arc_matrix, start_node, reparti_con_tamponi[next_index])\n",
    "    \n",
    "    nodo_finale = None\n",
    "    for p in path[1:-1]:\n",
    "        if p in reparti_con_tamponi and tamponi_per_reparto[p] > 0:\n",
    "            nodo_finale = next_index\n",
    "            next_index = reparti_con_tamponi.index(p)\n",
    "            break\n",
    "    \n",
    "    return next_index, nodo_finale\n",
    "\n",
    "def get_next_node(start_node, reparti_con_tamponi, score_matrix, tamponi_per_reparto):\n",
    "    index = reparti_con_tamponi.index(start_node)\n",
    "    next_index, score = retrieve_best_score(score_matrix, index)\n",
    "    \n",
    "    next_index, nodo_finale = check_reparto_intermedio(start_node, next_index, reparti_con_tamponi, tamponi_per_reparto)\n",
    "    \n",
    "    score_matrix[:,index] = -np.inf\n",
    "    return reparti_con_tamponi[next_index], score, nodo_finale"
   ]
  },
  {
   "cell_type": "code",
   "execution_count": 450,
   "metadata": {},
   "outputs": [],
   "source": [
    "dimensione_piastra = 96 # tamponi\n",
    "def stop_condition(residual_time, tamponi_trasportati, step):\n",
    "    return residual_time <= 0 or tamponi_trasportati >= dimensione_piastra or step >= len(reparti_con_tamponi) # aggiungere tempo al lab"
   ]
  },
  {
   "cell_type": "code",
   "execution_count": 451,
   "metadata": {},
   "outputs": [],
   "source": [
    "def build_tsp_path(arc_matrix, reparti_con_tamponi, tamponi_per_reparto_orig, residual_time, tamponi_trasportati, current_node):\n",
    "    tamponi_per_reparto = tamponi_per_reparto_orig.copy()\n",
    "    path = []\n",
    "    \n",
    "    # se il nodo di partenza non è un nodo con tamponi, allora trovo il nodo con tamponi con score più alto\n",
    "    if current_node not in reparti_con_tamponi:\n",
    "        step = 0\n",
    "        \n",
    "        score_row = compute_score_row(arc_matrix, reparti_con_tamponi, current_node, tamponi_per_reparto)\n",
    "        \n",
    "        ## TODO: controlla se accorpabile con get_next_node\n",
    "        next_index, score = retrieve_best_score(score_row)\n",
    "        next_index, nodo_finale = check_reparto_intermedio(current_node, next_index, reparti_con_tamponi, tamponi_per_reparto)\n",
    "        next_node = reparti_con_tamponi[next_index]\n",
    "        ## END TODO\n",
    "        \n",
    "        distances, _ = dijkstra(arc_matrix, current_node) # TODO: return prev da usare per compute_tamponi_in_nodo\n",
    "        tempo_di_percorrenza = distances[next_node]\n",
    "        residual_time -= tempo_di_percorrenza\n",
    "        tamponi_per_path = compute_tamponi_in_nodo(next_node, None, tamponi_per_reparto, None, start_node=current_node)\n",
    "        tamponi_trasportati += tamponi_per_path[next_node]\n",
    "        \n",
    "        print(f\"{step}. '{nodes[current_node]}' -> '{nodes[next_node]}': {tamponi_per_path[next_node]} tamponi / {tempo_di_percorrenza} minuti = {score} score {(f' (nodo intermedio verso {nodes[reparti_con_tamponi[nodo_finale]]})' if nodo_finale else '')}. Tempo residuo: {residual_time}, Tamponi trasportati: {tamponi_trasportati}.\")\n",
    "\n",
    "        tamponi_per_reparto[next_node] = 0\n",
    "        \n",
    "        path.append(next_node)\n",
    "        current_node = next_node\n",
    "        step += 1\n",
    "    \n",
    "    \n",
    "    step = 1\n",
    "    while not stop_condition(residual_time, tamponi_trasportati, step):\n",
    "        score_matrix = compute_score_matrix(arc_matrix, reparti_con_tamponi, tamponi_per_reparto)\n",
    "        next_node, score, nodo_finale = get_next_node(current_node, reparti_con_tamponi, score_matrix, tamponi_per_reparto)\n",
    "        \n",
    "        distances, _ = dijkstra(arc_matrix, current_node) # TODO: return prev da usare per compute_tamponi_in_nodo\n",
    "        tempo_di_percorrenza = distances[next_node]\n",
    "        residual_time -= tempo_di_percorrenza\n",
    "        tamponi_per_path = compute_tamponi_in_nodo(next_node, None, tamponi_per_reparto, None, start_node=current_node)\n",
    "        tamponi_trasportati += tamponi_per_path[next_node]\n",
    "        \n",
    "        print(f\"{step}. '{nodes[current_node]}' -> '{nodes[next_node]}': {tamponi_per_path[next_node]} tamponi / {tempo_di_percorrenza} minuti = {score} score {(f' (nodo intermedio verso {nodes[reparti_con_tamponi[nodo_finale]]})' if nodo_finale else '')}. Tempo residuo: {residual_time}, Tamponi trasportati: {tamponi_trasportati}.\")\n",
    "        \n",
    "        tamponi_per_reparto[next_node] = 0\n",
    "        \n",
    "        path.append(next_node)\n",
    "        current_node = next_node\n",
    "        step += 1\n",
    "    \n",
    "    return path"
   ]
  },
  {
   "cell_type": "code",
   "execution_count": 452,
   "metadata": {},
   "outputs": [
    {
     "name": "stdout",
     "output_type": "stream",
     "text": [
      "1. '4' -> '7': 9.0 tamponi / 12.0 minuti = 2.2941176470588234 score  (nodo intermedio verso 24). Tempo residuo: 108.0, Tamponi trasportati: 9.0.\n",
      "2. '7' -> '24': 30.0 tamponi / 5.0 minuti = 6.0 score . Tempo residuo: 103.0, Tamponi trasportati: 39.0.\n",
      "3. '24' -> '11n': 12.0 tamponi / 15.0 minuti = 0.8 score . Tempo residuo: 88.0, Tamponi trasportati: 51.0.\n",
      "4. '11n' -> '14': 7.0 tamponi / 10.0 minuti = 0.7 score . Tempo residuo: 78.0, Tamponi trasportati: 58.0.\n",
      "5. '14' -> '19': 10.0 tamponi / 31.0 minuti = 0.3225806451612903 score . Tempo residuo: 47.0, Tamponi trasportati: 68.0.\n",
      "6. '19' -> '22': 3.0 tamponi / 10.0 minuti = 0.3 score . Tempo residuo: 37.0, Tamponi trasportati: 71.0.\n",
      "7. '22' -> '25/2': 4.0 tamponi / 18.0 minuti = 0.2222222222222222 score . Tempo residuo: 19.0, Tamponi trasportati: 75.0.\n",
      "Path: 7 -> 24 -> 11n -> 14 -> 19 -> 22 -> 25/2\n"
     ]
    }
   ],
   "source": [
    "start_node = nodes.index('4')\n",
    "residual_time = 120\n",
    "tamponi_trasportati = 0\n",
    "\n",
    "path = build_tsp_path(arc_matrix, reparti_con_tamponi, tamponi_per_reparto, residual_time, tamponi_trasportati, start_node)\n",
    "print(f\"Path: {format_path(path)}\")"
   ]
  },
  {
   "cell_type": "code",
   "execution_count": 453,
   "metadata": {},
   "outputs": [
    {
     "name": "stdout",
     "output_type": "stream",
     "text": [
      "0. 'X2' -> '7': 6.0 tamponi / 4.0 minuti = 4.0 score  (nodo intermedio verso 24). Tempo residuo: 116.0, Tamponi trasportati: 6.0.\n",
      "1. '7' -> '24': 30.0 tamponi / 5.0 minuti = 6.0 score . Tempo residuo: 111.0, Tamponi trasportati: 36.0.\n",
      "2. '24' -> '11n': 12.0 tamponi / 15.0 minuti = 0.8 score . Tempo residuo: 96.0, Tamponi trasportati: 48.0.\n",
      "3. '11n' -> '14': 7.0 tamponi / 10.0 minuti = 0.7 score . Tempo residuo: 86.0, Tamponi trasportati: 55.0.\n",
      "4. '14' -> '19': 10.0 tamponi / 31.0 minuti = 0.3225806451612903 score . Tempo residuo: 55.0, Tamponi trasportati: 65.0.\n",
      "5. '19' -> '22': 3.0 tamponi / 10.0 minuti = 0.3 score . Tempo residuo: 45.0, Tamponi trasportati: 68.0.\n",
      "6. '22' -> '25/2': 4.0 tamponi / 18.0 minuti = 0.2222222222222222 score . Tempo residuo: 27.0, Tamponi trasportati: 72.0.\n",
      "7. '25/2' -> '4': 3.0 tamponi / 39.0 minuti = 0.07692307692307693 score . Tempo residuo: -12.0, Tamponi trasportati: 75.0.\n",
      "Path: 7 -> 24 -> 11n -> 14 -> 19 -> 22 -> 25/2 -> 4\n"
     ]
    }
   ],
   "source": [
    "# TODO\n",
    "# matrice di score tra start_node e i reparti con tamponi: sembra OK\n",
    "# matrice di score tra i reparti con tamponi e laboratorio + aggiungere nelle stop condition\n",
    "# aggiungere tempo di percorrenza (corridoio) A -> B\n",
    "\n",
    "start_node = nodes.index('X2')\n",
    "residual_time = 120\n",
    "tamponi_trasportati = 0\n",
    "path = build_tsp_path(arc_matrix, reparti_con_tamponi, tamponi_per_reparto, residual_time, tamponi_trasportati, start_node)\n",
    "print(f\"Path: {format_path(path)}\")"
   ]
  }
 ],
 "metadata": {
  "kernelspec": {
   "display_name": "mmsd",
   "language": "python",
   "name": "python3"
  },
  "language_info": {
   "codemirror_mode": {
    "name": "ipython",
    "version": 3
   },
   "file_extension": ".py",
   "mimetype": "text/x-python",
   "name": "python",
   "nbconvert_exporter": "python",
   "pygments_lexer": "ipython3",
   "version": "3.8.18"
  }
 },
 "nbformat": 4,
 "nbformat_minor": 2
}

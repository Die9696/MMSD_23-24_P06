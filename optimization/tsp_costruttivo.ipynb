{
 "cells": [
  {
   "cell_type": "code",
   "execution_count": 1,
   "metadata": {},
   "outputs": [
    {
     "name": "stdout",
     "output_type": "stream",
     "text": [
      "importing Jupyter notebook from dijkstra.ipynb\n",
      "('1', '2', '3', '4', '5n', '5s', '6', '7', '8', '9', '10', '10b', '11n', '11s', '12', '13', '14', '15', '16', '17', '19', '20', '20b', '21', '22', '23', '24', '25/1', '25/2', '26', '31', 'X1', 'X2', 'X3', 'X4', 'X5', 'X6', 'X7', 'X8', 'X9', 'X10', 'X11', 'X12', 'X13', 'X14', 'X15', 'X16', 'X17', 'X18', 'X19', 'X20', 'X21', 'X22')\n",
      "[[inf inf  7. ... inf inf inf]\n",
      " [inf inf inf ... inf inf inf]\n",
      " [ 7. inf inf ... inf inf inf]\n",
      " ...\n",
      " [inf inf inf ... inf  4. inf]\n",
      " [inf inf inf ...  4. inf inf]\n",
      " [inf inf inf ... inf inf inf]]\n",
      "X1 -> X2 -> 9 -> 7\n",
      "9.0\n",
      "2: [2, 36, 35, 35, 33, 33, 32, 47, 32, 7, 37, 42, 43, 44, 45, 41, 40, 40, 17, 46, 50, 52, 52, -1, 49, 48, 47, 51, 27, 50, 25, 32, 9, 9, 33, 34, 34, 9, 37, 38, 39, 16, 39, 38, 45, 46, 47, 48, 49, 50, 51, 21, 23]\n",
      "1: [55.0, 55.0, 48.0, 47.0, 45.0, 44.0, 40.0, 35.0, 40.0, 37.0, 42.0, 48.0, 45.0, 39.0, 38.0, 51.0, 47.0, 47.0, 50.0, 35.0, 22.0, 8.0, 3.0, 0, 26.0, 31.0, 32.0, 20.0, 22.0, 22.0, 33.0, 44.0, 39.0, 41.0, 43.0, 44.0, 47.0, 40.0, 41.0, 43.0, 44.0, 50.0, 45.0, 43.0, 38.0, 35.0, 32.0, 31.0, 28.0, 24.0, 19.0, 15.0, 2.0]\n"
     ]
    }
   ],
   "source": [
    "import import_ipynb\n",
    "from dijkstra import nodes, arc_matrix, get_shortest_path, dijkstra, format_path\n",
    "\n",
    "from pprint import pprint\n",
    "import numpy as np\n"
   ]
  },
  {
   "cell_type": "code",
   "execution_count": 2,
   "metadata": {},
   "outputs": [],
   "source": [
    "def init_tamponi_per_reparto():\n",
    "    tamponi_per_reparto = np.array([0, 0, 0, 3, 0, 0, 0, 6, 0, 0, 0, 0, 12, 0, 0, 0, 7, 0, 0, 0, 10, 0,\n",
    "        0, 0, 3, 0, 30, 0, 4, 0, 0, 0, 0, 0, 0, 0, 0, 0, 0, 0, 0, 0, 0, 0,\n",
    "        0, 0, 0, 0, 0, 0, 0, 0, 0]).astype(int)\n",
    "\n",
    "    return tamponi_per_reparto"
   ]
  },
  {
   "cell_type": "code",
   "execution_count": 3,
   "metadata": {},
   "outputs": [
    {
     "name": "stdout",
     "output_type": "stream",
     "text": [
      "[ 0  0  0  3  0  0  0  6  0  0  0  0 12  0  0  0  7  0  0  0 10  0  0  0\n",
      "  3  0 30  0  4  0  0  0  0  0  0  0  0  0  0  0  0  0  0  0  0  0  0  0\n",
      "  0  0  0  0  0]\n"
     ]
    }
   ],
   "source": [
    "tamponi_per_reparto = init_tamponi_per_reparto()\n",
    "print(tamponi_per_reparto)"
   ]
  },
  {
   "cell_type": "code",
   "execution_count": 4,
   "metadata": {},
   "outputs": [],
   "source": [
    "def estrai_reparti_con_tamponi(tamponi_per_reparto):\n",
    "    return [i for i,t in enumerate(tamponi_per_reparto) if t > 0]"
   ]
  },
  {
   "cell_type": "code",
   "execution_count": 5,
   "metadata": {},
   "outputs": [
    {
     "name": "stdout",
     "output_type": "stream",
     "text": [
      "[3, 7, 12, 16, 20, 24, 26, 28]\n",
      "0. Reparto con indice 3 e nome '4' ha 3 tamponi\n",
      "1. Reparto con indice 7 e nome '7' ha 6 tamponi\n",
      "2. Reparto con indice 12 e nome '11n' ha 12 tamponi\n",
      "3. Reparto con indice 16 e nome '14' ha 7 tamponi\n",
      "4. Reparto con indice 20 e nome '19' ha 10 tamponi\n",
      "5. Reparto con indice 24 e nome '22' ha 3 tamponi\n",
      "6. Reparto con indice 26 e nome '24' ha 30 tamponi\n",
      "7. Reparto con indice 28 e nome '25/2' ha 4 tamponi\n"
     ]
    }
   ],
   "source": [
    "reparti_con_tamponi = estrai_reparti_con_tamponi(tamponi_per_reparto)\n",
    "\n",
    "print(reparti_con_tamponi)\n",
    "\n",
    "for index,node in enumerate(reparti_con_tamponi):\n",
    "    print(f\"{index}. Reparto con indice {node} e nome '{nodes[node]}' ha {tamponi_per_reparto[node]} tamponi\")"
   ]
  },
  {
   "cell_type": "code",
   "execution_count": 6,
   "metadata": {},
   "outputs": [],
   "source": [
    "## SCORE MATRIX\n",
    "\n",
    "# conteggio dei tamponi in ogni nodo dato un path (oppure un nodo di partenza) \n",
    "def compute_tamponi_in_nodo(p, prev, tamponi_per_reparto, tamponi_per_path, start_node=None):\n",
    "    if prev is None and start_node is not None:\n",
    "        _, prev = np.array(dijkstra(arc_matrix, start_node))\n",
    "        tamponi_per_path = -1 * np.ones(len(prev))\n",
    "    \n",
    "    path = []\n",
    "    path.append(p)\n",
    "\n",
    "    prev = np.array(prev).astype(int)\n",
    "    while p != -1:\n",
    "        p = prev[p]\n",
    "        path.append(p)\n",
    "\n",
    "    path = path[::-1] # reverse\n",
    "    path = path[1:] # remove start node\n",
    "\n",
    "    temp_tamponi = 0\n",
    "    for p in path:\n",
    "        if tamponi_per_path[p] == -1:\n",
    "            # print(p,\"aggiungo questo reparto al dizionario\")\n",
    "            temp_tamponi += tamponi_per_reparto[p]\n",
    "            tamponi_per_path[p] = temp_tamponi\n",
    "        else:\n",
    "            temp_tamponi = tamponi_per_path[p]\n",
    "        \n",
    "        # print(p, nodes[p], tamponi_per_reparto[p], temp_tamponi)\n",
    "    \n",
    "    return tamponi_per_path\n",
    "        \n",
    "\n",
    "def compute_score_row(arc_matrix, reparti_con_tamponi, indice_reparto, tamponi_per_reparto, criterio=\"density\"):\n",
    "    time, prev = np.array(dijkstra(arc_matrix, indice_reparto))\n",
    "    time = time[reparti_con_tamponi]\n",
    "    \n",
    "    if criterio == \"density\":\n",
    "        ## TAMPONI PER PATH\n",
    "        tamponi_per_path = -1 * np.ones(len(prev))\n",
    "        for reparto in reparti_con_tamponi:\n",
    "            tamponi_per_path = compute_tamponi_in_nodo(reparto, prev, tamponi_per_reparto, tamponi_per_path)\n",
    "        ## TAMPONI IN NODO FINALE\n",
    "        # tamponi_per_path = tamponi_per_reparto.copy()\n",
    "        tamponi_per_path = tamponi_per_path[reparti_con_tamponi]\n",
    "        \n",
    "        # print(tamponi_per_path)\n",
    "        density_score = np.divide(tamponi_per_path, time, out=-np.inf*np.ones_like(time), where=time!=0)\n",
    "        return density_score\n",
    "    if criterio == \"time\":\n",
    "        return time\n",
    "    raise ValueError(f\"{criterio} non è un criterio valido. Usa 'density' o 'time'\")\n",
    "\n",
    "# tamponi / minuto\n",
    "def compute_score_matrix(arc_matrix, reparti_con_tamponi, tamponi_per_reparto):\n",
    "    return compute_density_matrix(arc_matrix, reparti_con_tamponi, tamponi_per_reparto)\n",
    "\n",
    "def compute_density_matrix(arc_matrix, reparti_con_tamponi, tamponi_per_reparto):\n",
    "    reparti_con_tamponi = np.array(reparti_con_tamponi)\n",
    "    score_matrix = np.zeros((len(reparti_con_tamponi), len(reparti_con_tamponi)))\n",
    "    for i, indice_reparto in enumerate(reparti_con_tamponi):\n",
    "        score_matrix[i] = compute_score_row(arc_matrix, reparti_con_tamponi, indice_reparto, tamponi_per_reparto)\n",
    "    return score_matrix"
   ]
  },
  {
   "cell_type": "code",
   "execution_count": 7,
   "metadata": {},
   "outputs": [],
   "source": [
    "def retrieve_best_score(score_matrix, index=None):\n",
    "    if index is not None: # per score_matrix\n",
    "        return np.argmax(score_matrix[index]), np.max(score_matrix[index])\n",
    "    else:\n",
    "        return np.argmax(score_matrix), np.max(score_matrix)"
   ]
  },
  {
   "cell_type": "code",
   "execution_count": 8,
   "metadata": {},
   "outputs": [
    {
     "name": "stdout",
     "output_type": "stream",
     "text": [
      "0. Reparto con indice 3 e nome '4' ha best score in reparto 6. indice 26 con nome '24' con score 2.2941176470588234\n",
      "1. Reparto con indice 7 e nome '7' ha best score in reparto 6. indice 26 con nome '24' con score 7.2\n",
      "2. Reparto con indice 12 e nome '11n' ha best score in reparto 6. indice 26 con nome '24' con score 3.2\n",
      "3. Reparto con indice 16 e nome '14' ha best score in reparto 6. indice 26 con nome '24' con score 2.5294117647058822\n",
      "4. Reparto con indice 20 e nome '19' ha best score in reparto 6. indice 26 con nome '24' con score 2.5\n",
      "5. Reparto con indice 24 e nome '22' ha best score in reparto 6. indice 26 con nome '24' con score 3.3\n",
      "6. Reparto con indice 26 e nome '24' ha best score in reparto 1. indice 7 con nome '7' con score 7.2\n",
      "7. Reparto con indice 28 e nome '25/2' ha best score in reparto 6. indice 26 con nome '24' con score 1.4166666666666667\n"
     ]
    }
   ],
   "source": [
    "score_matrix = compute_score_matrix(arc_matrix, reparti_con_tamponi, tamponi_per_reparto)\n",
    "for index,node in enumerate(reparti_con_tamponi):\n",
    "    best_index, best_score = retrieve_best_score(score_matrix, index)\n",
    "    print(f\"{index}. Reparto con indice {node} e nome '{nodes[node]}' ha best score in reparto {best_index}. indice {reparti_con_tamponi[best_index]} con nome '{nodes[reparti_con_tamponi[best_index]]}' con score {best_score}\")"
   ]
  },
  {
   "cell_type": "code",
   "execution_count": 9,
   "metadata": {},
   "outputs": [],
   "source": [
    "def check_reparto_intermedio(start_node, next_index, reparti_con_tamponi, tamponi_per_reparto):\n",
    "    # controllo: se all'interno del path c'è un nodo con tamponi, allora scelgo quello\n",
    "    \n",
    "    path, _ = get_shortest_path(arc_matrix, start_node, reparti_con_tamponi[next_index])\n",
    "    \n",
    "    nodo_finale = None\n",
    "    for p in path[1:-1]:\n",
    "        if p in reparti_con_tamponi and tamponi_per_reparto[p] > 0:\n",
    "            nodo_finale = next_index\n",
    "            next_index = reparti_con_tamponi.index(p)\n",
    "            break\n",
    "    \n",
    "    return next_index, nodo_finale\n",
    "\n",
    "def get_next_node(start_node, reparti_con_tamponi, score_matrix, tamponi_per_reparto):\n",
    "    index = reparti_con_tamponi.index(start_node)\n",
    "    next_index, score = retrieve_best_score(score_matrix, index)\n",
    "    \n",
    "    next_index, nodo_finale = check_reparto_intermedio(start_node, next_index, reparti_con_tamponi, tamponi_per_reparto)\n",
    "    \n",
    "    score_matrix[:,index] = -np.inf\n",
    "    return reparti_con_tamponi[next_index], score, nodo_finale"
   ]
  },
  {
   "cell_type": "code",
   "execution_count": 10,
   "metadata": {},
   "outputs": [],
   "source": [
    "DIMENSIONE_PIASTRA = 96 # tamponi\n",
    "massimo_ritardo = 0 # minuti\n",
    "def stop_condition(residual_time, tamponi_trasportati, step, reparti_con_tamponi):\n",
    "    return residual_time <= -massimo_ritardo or tamponi_trasportati >= DIMENSIONE_PIASTRA or step >= len(reparti_con_tamponi)"
   ]
  },
  {
   "cell_type": "code",
   "execution_count": 11,
   "metadata": {},
   "outputs": [],
   "source": [
    "def build_tsp_path(arc_matrix, tamponi_per_reparto_orig, residual_time, tamponi_trasportati, current_node, lab):\n",
    "    reparti_con_tamponi = estrai_reparti_con_tamponi(tamponi_per_reparto_orig)\n",
    "    tamponi_per_reparto = tamponi_per_reparto_orig.copy()\n",
    "    path = []\n",
    "    \n",
    "    step = 0\n",
    "    # se il nodo di partenza non è un nodo con tamponi, allora trovo il nodo con tamponi con score più alto\n",
    "    if current_node not in reparti_con_tamponi:\n",
    "        \n",
    "        score_row = compute_score_row(arc_matrix, reparti_con_tamponi, current_node, tamponi_per_reparto)\n",
    "        \n",
    "        ## TODO: controlla se accorpabile con get_next_node\n",
    "        next_index, score = retrieve_best_score(score_row)\n",
    "        next_index, nodo_finale = check_reparto_intermedio(current_node, next_index, reparti_con_tamponi, tamponi_per_reparto)\n",
    "        next_node = reparti_con_tamponi[next_index]\n",
    "        ## END TODO\n",
    "        \n",
    "        distances, _ = dijkstra(arc_matrix, current_node) # TODO: return prev da usare per compute_tamponi_in_nodo\n",
    "        tempo_di_percorrenza = distances[next_node]\n",
    "        residual_time -= tempo_di_percorrenza\n",
    "        tamponi_per_path = compute_tamponi_in_nodo(next_node, None, tamponi_per_reparto, None, start_node=current_node)\n",
    "        tamponi_trasportati += tamponi_per_path[next_node]\n",
    "        \n",
    "        ## DEBUG:\n",
    "        # print(f\"{step}. '{nodes[current_node]}' -> '{nodes[next_node]}': {tamponi_per_path[next_node]} tamponi / {tempo_di_percorrenza} minuti = {score} score {(f' (nodo intermedio verso {nodes[reparti_con_tamponi[nodo_finale]]})' if nodo_finale else '')}. Tempo residuo: {residual_time}, Tamponi trasportati: {tamponi_trasportati}.\")\n",
    "        ##\n",
    "        \n",
    "        tamponi_per_reparto[next_node] = 0\n",
    "        \n",
    "        path.append(next_node)\n",
    "        current_node = next_node\n",
    "    \n",
    "    step += 1\n",
    "    lab_time_row = compute_score_row(arc_matrix, reparti_con_tamponi, lab, tamponi_per_reparto, criterio=\"time\")\n",
    "    lab_return_time = lab_time_row[reparti_con_tamponi.index(current_node)]\n",
    "    while not stop_condition(residual_time - lab_return_time, tamponi_trasportati, step, reparti_con_tamponi):\n",
    "        score_matrix = compute_score_matrix(arc_matrix, reparti_con_tamponi, tamponi_per_reparto)\n",
    "        next_node, score, nodo_finale = get_next_node(current_node, reparti_con_tamponi, score_matrix, tamponi_per_reparto)\n",
    "        \n",
    "        distances, _ = dijkstra(arc_matrix, current_node) # TODO: return prev da usare per compute_tamponi_in_nodo\n",
    "        tempo_di_percorrenza = distances[next_node]\n",
    "        residual_time -= tempo_di_percorrenza\n",
    "        tamponi_per_path = compute_tamponi_in_nodo(next_node, None, tamponi_per_reparto, None, start_node=current_node)\n",
    "        tamponi_trasportati += tamponi_per_path[next_node]\n",
    "        \n",
    "        ## DEBUG:\n",
    "        # print(f\"{step}. '{nodes[current_node]}' -> '{nodes[next_node]}': {tamponi_per_path[next_node]} tamponi / {tempo_di_percorrenza} minuti = {score} score {(f' (nodo intermedio verso {nodes[reparti_con_tamponi[nodo_finale]]})' if nodo_finale else '')}. Tempo residuo: {residual_time}, Tamponi trasportati: {tamponi_trasportati}.\")\n",
    "        ##\n",
    "        \n",
    "        tamponi_per_reparto[next_node] = 0\n",
    "        \n",
    "        path.append(next_node)\n",
    "        # print(f\"Tempo di ritorno al laboratorio da current_node: {lab_time_row[reparti_con_tamponi.index(current_node)]}\")\n",
    "        # print(f\"Tempo di ritorno al laboratorio da next_node: {lab_time_row[reparti_con_tamponi.index(next_node)]}\")\n",
    "        current_node = next_node\n",
    "        step += 1\n",
    "        lab_time_row = compute_score_row(arc_matrix, reparti_con_tamponi, lab, tamponi_per_reparto, criterio=\"time\")\n",
    "        lab_return_time = lab_time_row[reparti_con_tamponi.index(current_node)]\n",
    "            \n",
    "    # path = path[:-1] # remove last node (probabilmente)\n",
    "    \n",
    "    path += [lab]\n",
    "        \n",
    "    \n",
    "    return path"
   ]
  },
  {
   "cell_type": "code",
   "execution_count": 12,
   "metadata": {},
   "outputs": [
    {
     "name": "stdout",
     "output_type": "stream",
     "text": [
      "Path: 7 -> 24 -> 11n -> 14 -> 19 -> 22 -> 25/2 -> 9\n"
     ]
    }
   ],
   "source": [
    "start_node = nodes.index('4')\n",
    "residual_time = 120\n",
    "tamponi_trasportati = 0\n",
    "lab = nodes.index('9')\n",
    "\n",
    "path = build_tsp_path(arc_matrix, tamponi_per_reparto, residual_time, tamponi_trasportati, start_node, lab)\n",
    "print(f\"Path: {format_path(path)}\")"
   ]
  },
  {
   "cell_type": "code",
   "execution_count": 13,
   "metadata": {},
   "outputs": [
    {
     "name": "stdout",
     "output_type": "stream",
     "text": [
      "0. 'X2' -> '7': 6.0 tamponi / 4.0 minuti = 4.0 score  (nodo intermedio verso 24). Tempo residuo: 116.0, Tamponi trasportati: 6.0.\n",
      "Path: 7 -> 24 -> 11n -> 14 -> 19 -> 22 -> 25/2 -> 9\n"
     ]
    }
   ],
   "source": [
    "# TODO\n",
    "# provare a fare spawnare tamponi prima che termini il piano iniziale\n",
    "# SCORE deve tenere conto di: (tamponi / tempo) * (?)\n",
    "# + time_row tra i reparti con tamponi e laboratorio\n",
    "# + aggiungere tempo di percorrenza (corridoio) A -> B (es 3 su 10 minuti percorsi)\n",
    "#    + se devo andare in C e il percorso è A -> B -> C, allora per arrivare in C ci metto 3 minuti in meno\n",
    "#    + se il percorso non prevede di passare per B, allora ci metto 3 minuti in più\n",
    "\n",
    "start_node = nodes.index('X2')\n",
    "residual_time = 120\n",
    "tamponi_trasportati = 0\n",
    "lab = nodes.index('7')\n",
    "\n",
    "path = build_tsp_path(arc_matrix, tamponi_per_reparto, residual_time, tamponi_trasportati, start_node, lab)\n",
    "print(f\"Path: {format_path(path)}\")"
   ]
  },
  {
   "cell_type": "code",
   "execution_count": 14,
   "metadata": {},
   "outputs": [
    {
     "name": "stdout",
     "output_type": "stream",
     "text": [
      "[10.  2.  8. 10. 21. 15.  7. 29.]\n",
      "0. Reparto con indice 3 e nome '4' ha tempo di percorrenza verso il laboratorio di 10.0 minuti\n",
      "1. Reparto con indice 7 e nome '7' ha tempo di percorrenza verso il laboratorio di 2.0 minuti\n",
      "2. Reparto con indice 12 e nome '11n' ha tempo di percorrenza verso il laboratorio di 8.0 minuti\n",
      "3. Reparto con indice 16 e nome '14' ha tempo di percorrenza verso il laboratorio di 10.0 minuti\n",
      "4. Reparto con indice 20 e nome '19' ha tempo di percorrenza verso il laboratorio di 21.0 minuti\n",
      "5. Reparto con indice 24 e nome '22' ha tempo di percorrenza verso il laboratorio di 15.0 minuti\n",
      "6. Reparto con indice 26 e nome '24' ha tempo di percorrenza verso il laboratorio di 7.0 minuti\n",
      "7. Reparto con indice 28 e nome '25/2' ha tempo di percorrenza verso il laboratorio di 29.0 minuti\n"
     ]
    }
   ],
   "source": [
    "lab_score_row = compute_score_row(arc_matrix, reparti_con_tamponi, lab, tamponi_per_reparto, criterio='time')\n",
    "\n",
    "print(lab_score_row)\n",
    "for index,node in enumerate(reparti_con_tamponi):\n",
    "    print(f\"{index}. Reparto con indice {node} e nome '{nodes[node]}' ha tempo di percorrenza verso il laboratorio di {lab_score_row[index]} minuti\")"
   ]
  },
  {
   "cell_type": "code",
   "execution_count": 16,
   "metadata": {},
   "outputs": [
    {
     "name": "stdout",
     "output_type": "stream",
     "text": [
      "0. 'X1' -> '22': 10.0 tamponi / 22.0 minuti = 0.45454545454545453 score . Tempo residuo: 97.0, Tamponi trasportati: 10.0.\n",
      "Path: 22 -> 9\n"
     ]
    }
   ],
   "source": [
    "tamponi_per_reparto = [0]*len(nodes)\n",
    "reparto = nodes.index('22')\n",
    "tamponi_per_reparto[reparto] += 10\n",
    "# reparto = nodes.index('2')\n",
    "# print(reparti_con_tamponi.index(reparto))\n",
    "\n",
    "residual_time = 119\n",
    "\n",
    "tamponi_trasportati = 0\n",
    "\n",
    "current_position = nodes.index('X1')\n",
    "\n",
    "lab = nodes.index('9')\n",
    "\n",
    "path = build_tsp_path(arc_matrix, tamponi_per_reparto, residual_time, tamponi_trasportati, current_position, lab)\n",
    "\n",
    "print(f\"Path: {format_path(path)}\")\n",
    "# reparti_con_tamponi = estrai_reparti_con_tamponi(tamponi_per_reparto)\n",
    "# lab_time_row = compute_score_row(arc_matrix, reparti_con_tamponi, lab, tamponi_per_reparto, criterio=\"time\")\n",
    "# print(lab_time_row)"
   ]
  }
 ],
 "metadata": {
  "kernelspec": {
   "display_name": "mmsd",
   "language": "python",
   "name": "python3"
  },
  "language_info": {
   "codemirror_mode": {
    "name": "ipython",
    "version": 3
   },
   "file_extension": ".py",
   "mimetype": "text/x-python",
   "name": "python",
   "nbconvert_exporter": "python",
   "pygments_lexer": "ipython3",
   "version": "3.8.18"
  }
 },
 "nbformat": 4,
 "nbformat_minor": 2
}

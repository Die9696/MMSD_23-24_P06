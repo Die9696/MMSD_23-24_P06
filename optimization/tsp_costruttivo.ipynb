{
 "cells": [
  {
   "cell_type": "code",
   "execution_count": 16,
   "metadata": {},
   "outputs": [],
   "source": [
    "import import_ipynb\n",
    "from dijkstra import nodes, arc_matrix, get_shortest_path, dijkstra, format_path\n",
    "\n",
    "from pprint import pprint\n",
    "import numpy as np\n"
   ]
  },
  {
   "cell_type": "code",
   "execution_count": 17,
   "metadata": {},
   "outputs": [],
   "source": [
    "def init_tamponi_per_reparto():\n",
    "    tamponi_per_reparto = np.array([0, 0, 0, 3, 0, 0, 0, 6, 0, 0, 0, 0, 12, 0, 0, 0, 7, 0, 0, 0, 10, 0,\n",
    "        0, 0, 3, 0, 30, 0, 4, 0, 0, 0, 0, 0, 0, 0, 0, 0, 0, 0, 0, 0, 0, 0,\n",
    "        0, 0, 0, 0, 0, 0, 0, 0, 0]).astype(int)\n",
    "\n",
    "    return tamponi_per_reparto"
   ]
  },
  {
   "cell_type": "code",
   "execution_count": 18,
   "metadata": {},
   "outputs": [
    {
     "name": "stdout",
     "output_type": "stream",
     "text": [
      "[ 0  0  0  3  0  0  0  6  0  0  0  0 12  0  0  0  7  0  0  0 10  0  0  0\n",
      "  3  0 30  0  4  0  0  0  0  0  0  0  0  0  0  0  0  0  0  0  0  0  0  0\n",
      "  0  0  0  0  0]\n"
     ]
    }
   ],
   "source": [
    "tamponi_per_reparto = init_tamponi_per_reparto()\n",
    "print(tamponi_per_reparto)"
   ]
  },
  {
   "cell_type": "code",
   "execution_count": 19,
   "metadata": {},
   "outputs": [],
   "source": [
    "def estrai_reparti_con_tamponi(tamponi_per_reparto):\n",
    "    return [i for i,t in enumerate(tamponi_per_reparto) if t > 0]"
   ]
  },
  {
   "cell_type": "code",
   "execution_count": 20,
   "metadata": {},
   "outputs": [
    {
     "name": "stdout",
     "output_type": "stream",
     "text": [
      "[3, 7, 12, 16, 20, 24, 26, 28]\n",
      "0. Reparto con indice 3 e nome '4' ha 3 tamponi\n",
      "1. Reparto con indice 7 e nome '7' ha 6 tamponi\n",
      "2. Reparto con indice 12 e nome '11n' ha 12 tamponi\n",
      "3. Reparto con indice 16 e nome '14' ha 7 tamponi\n",
      "4. Reparto con indice 20 e nome '19' ha 10 tamponi\n",
      "5. Reparto con indice 24 e nome '22' ha 3 tamponi\n",
      "6. Reparto con indice 26 e nome '24' ha 30 tamponi\n",
      "7. Reparto con indice 28 e nome '25/2' ha 4 tamponi\n"
     ]
    }
   ],
   "source": [
    "reparti_con_tamponi = estrai_reparti_con_tamponi(tamponi_per_reparto)\n",
    "\n",
    "print(reparti_con_tamponi)\n",
    "\n",
    "for index,node in enumerate(reparti_con_tamponi):\n",
    "    print(f\"{index}. Reparto con indice {node} e nome '{nodes[node]}' ha {tamponi_per_reparto[node]} tamponi\")"
   ]
  },
  {
   "cell_type": "code",
   "execution_count": 21,
   "metadata": {},
   "outputs": [],
   "source": [
    "# tamponi / minuto\n",
    "def compute_score_matrix(arc_matrix, reparti_con_tamponi, tamponi_per_reparto):\n",
    "    return compute_density_matrix(arc_matrix, reparti_con_tamponi, tamponi_per_reparto)\n",
    "\n",
    "def compute_tamponi_in_nodo(p, prev, tamponi_per_reparto, tamponi_per_path, start_node=None):\n",
    "    if prev is None and start_node is not None:\n",
    "        _, prev = np.array(dijkstra(arc_matrix, start_node))\n",
    "        tamponi_per_path = -1 * np.ones(len(prev))\n",
    "    \n",
    "    path = []\n",
    "    path.append(p)\n",
    "\n",
    "    prev = np.array(prev).astype(int)\n",
    "    while p != -1:\n",
    "        p = prev[p]\n",
    "        path.append(p)\n",
    "\n",
    "    path = path[::-1] # reverse\n",
    "    path = path[1:] # remove start node\n",
    "\n",
    "    temp_tamponi = 0\n",
    "    for p in path:\n",
    "        if tamponi_per_path[p] == -1:\n",
    "            # print(p,\"aggiungo questo reparto al dizionario\")\n",
    "            temp_tamponi += tamponi_per_reparto[p]\n",
    "            tamponi_per_path[p] = temp_tamponi\n",
    "        else:\n",
    "            temp_tamponi = tamponi_per_path[p]\n",
    "        \n",
    "        # print(p, nodes[p], tamponi_per_reparto[p], temp_tamponi)\n",
    "    \n",
    "    return tamponi_per_path\n",
    "        \n",
    "\n",
    "def compute_score_row(arc_matrix, reparti_con_tamponi, indice_reparto):\n",
    "    time, prev = np.array(dijkstra(arc_matrix, indice_reparto))\n",
    "    # print(prev)\n",
    "    \n",
    "    tamponi_per_path = -1 * np.ones(len(prev))\n",
    "    for p in reparti_con_tamponi:\n",
    "        tamponi_per_path = compute_tamponi_in_nodo(p, prev, tamponi_per_reparto, tamponi_per_path)\n",
    "    \n",
    "    time = time[reparti_con_tamponi]\n",
    "    tamponi_per_path = tamponi_per_path[reparti_con_tamponi]\n",
    "    \n",
    "    # print(tamponi_per_path)\n",
    "    density_score = np.divide(tamponi_per_path, time, out=-np.inf*np.ones_like(time), where=time!=0)\n",
    "    return density_score\n",
    "\n",
    "def compute_density_matrix(arc_matrix, reparti_con_tamponi, tamponi_per_reparto):\n",
    "    reparti_con_tamponi = np.array(reparti_con_tamponi)\n",
    "    score_matrix = np.zeros((len(reparti_con_tamponi), len(reparti_con_tamponi)))\n",
    "    for i, indice_reparto in enumerate(reparti_con_tamponi):\n",
    "        score_matrix[i] = compute_score_row(arc_matrix, reparti_con_tamponi, indice_reparto)\n",
    "    return score_matrix"
   ]
  },
  {
   "cell_type": "code",
   "execution_count": 22,
   "metadata": {},
   "outputs": [],
   "source": [
    "def retrieve_best_score(score_matrix, index=0):\n",
    "    return np.argmax(score_matrix[index]), np.max(score_matrix[index])"
   ]
  },
  {
   "cell_type": "code",
   "execution_count": 23,
   "metadata": {},
   "outputs": [
    {
     "name": "stdout",
     "output_type": "stream",
     "text": [
      "0. Reparto con indice 3 e nome '4' ha best score in reparto 6. indice 26 con nome '24' con score 2.2941176470588234\n",
      "1. Reparto con indice 7 e nome '7' ha best score in reparto 6. indice 26 con nome '24' con score 7.2\n",
      "2. Reparto con indice 12 e nome '11n' ha best score in reparto 6. indice 26 con nome '24' con score 3.2\n",
      "3. Reparto con indice 16 e nome '14' ha best score in reparto 6. indice 26 con nome '24' con score 2.5294117647058822\n",
      "4. Reparto con indice 20 e nome '19' ha best score in reparto 6. indice 26 con nome '24' con score 2.5\n",
      "5. Reparto con indice 24 e nome '22' ha best score in reparto 6. indice 26 con nome '24' con score 3.3\n",
      "6. Reparto con indice 26 e nome '24' ha best score in reparto 1. indice 7 con nome '7' con score 7.2\n",
      "7. Reparto con indice 28 e nome '25/2' ha best score in reparto 6. indice 26 con nome '24' con score 1.4166666666666667\n"
     ]
    }
   ],
   "source": [
    "score_matrix = compute_score_matrix(arc_matrix, reparti_con_tamponi, tamponi_per_reparto)\n",
    "for index,node in enumerate(reparti_con_tamponi):\n",
    "    best_index, best_score = retrieve_best_score(score_matrix, index)\n",
    "    print(f\"{index}. Reparto con indice {node} e nome '{nodes[node]}' ha best score in reparto {best_index}. indice {reparti_con_tamponi[best_index]} con nome '{nodes[reparti_con_tamponi[best_index]]}' con score {best_score}\")"
   ]
  },
  {
   "cell_type": "code",
   "execution_count": 24,
   "metadata": {},
   "outputs": [],
   "source": [
    "def get_index_from_node(node, reparti_con_tamponi):\n",
    "    try:\n",
    "        index = reparti_con_tamponi.index(node)\n",
    "    except:\n",
    "        # print(\"Nodo non trovato tra quelli con tamponi\")\n",
    "        score_row = compute_score_row(arc_matrix, reparti_con_tamponi, node)\n",
    "        index, _ = retrieve_best_score(score_row)\n",
    "        # print(score_row)\n",
    "                \n",
    "    return index"
   ]
  },
  {
   "cell_type": "code",
   "execution_count": 25,
   "metadata": {},
   "outputs": [],
   "source": [
    "def get_next_node(start_node, reparti_con_tamponi, score_matrix, tamponi_per_reparto):\n",
    "    index = get_index_from_node(start_node, reparti_con_tamponi)\n",
    "    next_index, score = retrieve_best_score(score_matrix, index)\n",
    "    path, _ = get_shortest_path(arc_matrix, start_node, reparti_con_tamponi[next_index])\n",
    "    \n",
    "    for p in path[1:]:\n",
    "        if p in reparti_con_tamponi and tamponi_per_reparto[p] > 0:\n",
    "            next_index = reparti_con_tamponi.index(p)\n",
    "            break\n",
    "    \n",
    "    score_matrix[:,index] = -np.inf\n",
    "    return reparti_con_tamponi[next_index], score"
   ]
  },
  {
   "cell_type": "code",
   "execution_count": 26,
   "metadata": {},
   "outputs": [],
   "source": [
    "def stop_condition(residual_time, tamponi_trasportati, step):\n",
    "    return residual_time <= 0 or tamponi_trasportati >= 96 or step >= len(reparti_con_tamponi) # aggiungere tempo al lab; numero di tamponi"
   ]
  },
  {
   "cell_type": "code",
   "execution_count": 27,
   "metadata": {},
   "outputs": [],
   "source": [
    "def build_tsp_path(arc_matrix, reparti_con_tamponi, tamponi_per_reparto_orig, residual_time, tamponi_trasportati, current_node):\n",
    "    tamponi_per_reparto = tamponi_per_reparto_orig.copy()\n",
    "    path = []\n",
    "    score_matrix = compute_score_matrix(arc_matrix, reparti_con_tamponi, tamponi_per_reparto)\n",
    "\n",
    "    step = 1\n",
    "    while not stop_condition(residual_time, tamponi_trasportati, step):\n",
    "        next_node, score = get_next_node(current_node, reparti_con_tamponi, score_matrix, tamponi_per_reparto)\n",
    "        distances, _ = dijkstra(arc_matrix, current_node)\n",
    "        tempo_di_percorrenza = distances[next_node]\n",
    "        residual_time -= tempo_di_percorrenza\n",
    "        tamponi_per_path = compute_tamponi_in_nodo(next_node, None, tamponi_per_reparto, None, start_node=current_node)\n",
    "        tamponi_trasportati += tamponi_per_path[next_node]\n",
    "        print(f\"{step}. Next node from '{nodes[current_node]}' is '{nodes[next_node]}' with time {tempo_di_percorrenza} and tamponi in path: {tamponi_per_path[next_node]}. Residual time is {residual_time}, Tamponi trasportati {tamponi_trasportati}. (score={score})\")\n",
    "        tamponi_per_reparto[next_node] = 0\n",
    "        \n",
    "        path.append(next_node)\n",
    "        current_node = next_node\n",
    "        step += 1\n",
    "    \n",
    "    return path"
   ]
  },
  {
   "cell_type": "code",
   "execution_count": 28,
   "metadata": {},
   "outputs": [
    {
     "name": "stdout",
     "output_type": "stream",
     "text": [
      "1. Next node from '4' is '7' with time 12.0 and tamponi in path: 9.0. Residual time is 108.0, Tamponi trasportati 9.0. (score=2.2941176470588234)\n",
      "2. Next node from '7' is '24' with time 5.0 and tamponi in path: 30.0. Residual time is 103.0, Tamponi trasportati 39.0. (score=7.2)\n",
      "3. Next node from '24' is '22' with time 10.0 and tamponi in path: 3.0. Residual time is 93.0, Tamponi trasportati 42.0. (score=3.3)\n",
      "4. Next node from '22' is '19' with time 10.0 and tamponi in path: 10.0. Residual time is 83.0, Tamponi trasportati 52.0. (score=1.3)\n",
      "5. Next node from '19' is '25/2' with time 14.0 and tamponi in path: 4.0. Residual time is 69.0, Tamponi trasportati 56.0. (score=1.0)\n",
      "6. Next node from '25/2' is '11n' with time 37.0 and tamponi in path: 12.0. Residual time is 32.0, Tamponi trasportati 68.0. (score=0.5945945945945946)\n",
      "7. Next node from '11n' is '14' with time 10.0 and tamponi in path: 7.0. Residual time is 22.0, Tamponi trasportati 75.0. (score=1.9)\n",
      "Path: 7 -> 24 -> 22 -> 19 -> 25/2 -> 11n -> 14\n"
     ]
    }
   ],
   "source": [
    "start_node = nodes.index('4')\n",
    "residual_time = 120\n",
    "tamponi_trasportati = 0\n",
    "\n",
    "path = build_tsp_path(arc_matrix, reparti_con_tamponi, tamponi_per_reparto, residual_time, tamponi_trasportati, start_node)\n",
    "print(f\"Path: {format_path(path)}\")"
   ]
  },
  {
   "cell_type": "code",
   "execution_count": 29,
   "metadata": {},
   "outputs": [
    {
     "name": "stdout",
     "output_type": "stream",
     "text": [
      "1. Next node from 'X1' is '7' with time 9.0 and tamponi in path: 6.0. Residual time is 111.0, Tamponi trasportati 6.0. (score=2.2941176470588234)\n",
      "2. Next node from '7' is '24' with time 5.0 and tamponi in path: 30.0. Residual time is 106.0, Tamponi trasportati 36.0. (score=7.2)\n",
      "3. Next node from '24' is '22' with time 10.0 and tamponi in path: 3.0. Residual time is 96.0, Tamponi trasportati 39.0. (score=3.3)\n",
      "4. Next node from '22' is '19' with time 10.0 and tamponi in path: 10.0. Residual time is 86.0, Tamponi trasportati 49.0. (score=1.3)\n",
      "5. Next node from '19' is '25/2' with time 14.0 and tamponi in path: 4.0. Residual time is 72.0, Tamponi trasportati 53.0. (score=1.0)\n",
      "6. Next node from '25/2' is '11n' with time 37.0 and tamponi in path: 12.0. Residual time is 35.0, Tamponi trasportati 65.0. (score=0.5945945945945946)\n",
      "7. Next node from '11n' is '14' with time 10.0 and tamponi in path: 7.0. Residual time is 25.0, Tamponi trasportati 72.0. (score=1.9)\n",
      "Path: 7 -> 24 -> 22 -> 19 -> 25/2 -> 11n -> 14\n"
     ]
    }
   ],
   "source": [
    "# TODO\n",
    "# matrice di score tra start_node e i reparti con tamponi: sembra OK\n",
    "# matrice di score tra i reparti con tamponi e laboratorio + aggiungere nelle stop condition\n",
    "# aggiungere tempo di percorrenza (corridoio) A -> B\n",
    "\n",
    "start_node = nodes.index('X1')\n",
    "residual_time = 120\n",
    "tamponi_trasportati = 0\n",
    "path = build_tsp_path(arc_matrix, reparti_con_tamponi, tamponi_per_reparto, residual_time, tamponi_trasportati, start_node)\n",
    "print(f\"Path: {format_path(path)}\")"
   ]
  }
 ],
 "metadata": {
  "kernelspec": {
   "display_name": "mmsd",
   "language": "python",
   "name": "python3"
  },
  "language_info": {
   "codemirror_mode": {
    "name": "ipython",
    "version": 3
   },
   "file_extension": ".py",
   "mimetype": "text/x-python",
   "name": "python",
   "nbconvert_exporter": "python",
   "pygments_lexer": "ipython3",
   "version": "3.8.18"
  }
 },
 "nbformat": 4,
 "nbformat_minor": 2
}
